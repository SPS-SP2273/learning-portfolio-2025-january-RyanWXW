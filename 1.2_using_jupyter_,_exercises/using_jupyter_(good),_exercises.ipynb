{
 "cells": [
  {
   "cell_type": "markdown",
   "id": "123456",
   "metadata": {},
   "source": [
    "<div style=\"text-align:left;font-size:2em\"><span style=\"font-weight:bolder;font-size:1.25em\">SP2273 | Learning Portfolio</span><br><br><span style=\"font-weight:bold;color:darkred\">Using Jupyter (Good), Exercises</span></div>"
   ]
  },
  {
   "cell_type": "code",
   "execution_count": null,
   "id": "8f470a22",
   "metadata": {},
   "outputs": [],
   "source": [
    "while True:\n",
    "    print('*', end='') \n",
    "    \n",
    "#kernel has been interrupted "
   ]
  },
  {
   "cell_type": "code",
   "execution_count": null,
   "id": "98cec7ec",
   "metadata": {},
   "outputs": [],
   "source": [
    "print=('Hello world')\n",
    "\n",
    "#kernal has restarted "
   ]
  },
  {
   "cell_type": "code",
   "execution_count": null,
   "id": "e1b47d7c",
   "metadata": {},
   "outputs": [],
   "source": []
  },
  {
   "cell_type": "markdown",
   "id": "fa0d9f83",
   "metadata": {},
   "source": []
  },
  {
   "cell_type": "code",
   "execution_count": 1,
   "id": "6c607c1e",
   "metadata": {},
   "outputs": [
    {
     "name": "stdout",
     "output_type": "stream",
     "text": [
      "method 1 [0, 1, 4, 9, 16, 25, 36, 49, 64, 81]\n",
      "method 2 [0, 1, 4, 9, 16, 25, 36, 49, 64, 81]\n"
     ]
    }
   ],
   "source": [
    "#method 1\n",
    "squares_1 = [i**2 for i in range(10)]\n",
    "print(\"method 1\", squares_1)\n",
    "\n",
    "#method 2\n",
    "squares_2 = list()\n",
    "for i in range(10):\n",
    "    squares_2.append(i**2)\n",
    "print(\"method 2\", squares_2)\n"
   ]
  },
  {
   "cell_type": "code",
   "execution_count": null,
   "id": "a5af54d3",
   "metadata": {},
   "outputs": [],
   "source": [
    "%%timeit\n",
    "squares = [i**2 for i in range(10)]"
   ]
  },
  {
   "cell_type": "markdown",
   "id": "b791f562",
   "metadata": {},
   "source": [
    "Interpretation: this code took 3.33 microseconds to be executed, with a rough variation of 515 nanoseconds per loop, afte rbeing run for 100000 in each of 7 runs"
   ]
  },
  {
   "cell_type": "code",
   "execution_count": null,
   "id": "0195e3bb",
   "metadata": {},
   "outputs": [],
   "source": [
    "%%timeit\n",
    "squares = list()\n",
    "for i in range(10):\n",
    "    squares.append(i**2)"
   ]
  },
  {
   "cell_type": "markdown",
   "id": "1a94099e",
   "metadata": {},
   "source": [
    "Interpretation: this code took 3.48 microseconds to be executed, with a rough variation of 42.7 nanoseconds per loop, afte rbeing run for 100000 in each of 7 runs"
   ]
  },
  {
   "cell_type": "code",
   "execution_count": null,
   "id": "0d6d80f9",
   "metadata": {},
   "outputs": [],
   "source": []
  },
  {
   "cell_type": "code",
   "execution_count": null,
   "id": "de20ee3f",
   "metadata": {},
   "outputs": [],
   "source": []
  },
  {
   "cell_type": "code",
   "execution_count": null,
   "id": "dbcddcd2",
   "metadata": {},
   "outputs": [],
   "source": []
  },
  {
   "cell_type": "code",
   "execution_count": null,
   "id": "a29e5a13",
   "metadata": {},
   "outputs": [],
   "source": []
  },
  {
   "cell_type": "code",
   "execution_count": null,
   "id": "10869228",
   "metadata": {},
   "outputs": [],
   "source": []
  },
  {
   "cell_type": "code",
   "execution_count": null,
   "id": "55567562",
   "metadata": {},
   "outputs": [],
   "source": []
  },
  {
   "cell_type": "code",
   "execution_count": null,
   "id": "702531c2",
   "metadata": {},
   "outputs": [],
   "source": []
  }
 ],
 "metadata": {
  "kernelspec": {
   "display_name": "Python 3 (ipykernel)",
   "language": "python",
   "name": "python3"
  },
  "language_info": {
   "codemirror_mode": {
    "name": "ipython",
    "version": 3
   },
   "file_extension": ".py",
   "mimetype": "text/x-python",
   "name": "python",
   "nbconvert_exporter": "python",
   "pygments_lexer": "ipython3",
   "version": "3.9.12"
  },
  "toc": {
   "base_numbering": 1,
   "nav_menu": {},
   "number_sections": true,
   "sideBar": true,
   "skip_h1_title": false,
   "title_cell": "Table of Contents",
   "title_sidebar": "Contents",
   "toc_cell": false,
   "toc_position": {},
   "toc_section_display": true,
   "toc_window_display": false
  },
  "vscode": {
   "interpreter": {
    "hash": "31f2aee4e71d21fbe5cf8b01ff0e069b9275f58929596ceb00d14d90e3e16cd6"
   }
  }
 },
 "nbformat": 4,
 "nbformat_minor": 5
}
