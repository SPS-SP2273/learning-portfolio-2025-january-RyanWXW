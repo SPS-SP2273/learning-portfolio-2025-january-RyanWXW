{
 "cells": [
  {
   "cell_type": "markdown",
   "id": "123456",
   "metadata": {},
   "source": [
    "<div style=\"text-align:left;font-size:2em\"><span style=\"font-weight:bolder;font-size:1.25em\">SP2273 | Learning Portfolio</span><br><br><span style=\"font-weight:bold;color:darkred\">Fundamentals (Good) Exercises</span></div>"
   ]
  },
  {
   "cell_type": "code",
   "execution_count": null,
   "id": "e975ff94",
   "metadata": {},
   "outputs": [],
   "source": [
    "#TASK 1\n",
    "user_input = input('How you doin!')\n",
    "print('You entered', user_input) "
   ]
  },
  {
   "cell_type": "code",
   "execution_count": null,
   "id": "b4d3b6c7",
   "metadata": {},
   "outputs": [],
   "source": [
    "#TASK 2\n",
    "name = input('My name is ')\n",
    "age = input('and i am ')\n",
    "\n",
    "print(name, age,'years old.')"
   ]
  },
  {
   "cell_type": "code",
   "execution_count": 3,
   "id": "4e1d6f7f",
   "metadata": {},
   "outputs": [
    {
     "name": "stdout",
     "output_type": "stream",
     "text": [
      "The value of pi to 2 decimal places is: 3.14\n",
      "The value of pi to 3 decimal places is: 3.142\n",
      "The value of pi to 4 decimal places is: 3.1416\n"
     ]
    }
   ],
   "source": [
    "#TASK 3\n",
    "pi = 3.141592653589793\n",
    "\n",
    "print(f'The value of pi to 2 decimal places is: {pi:.2f}')\n",
    "print(f'The value of pi to 3 decimal places is: {pi:.3f}')\n",
    "print(f'The value of pi to 4 decimal places is: {pi:.4f}')"
   ]
  },
  {
   "cell_type": "code",
   "execution_count": 2,
   "id": "6422578c",
   "metadata": {},
   "outputs": [
    {
     "name": "stdout",
     "output_type": "stream",
     "text": [
      "Apple      $  0.99\n",
      "Banana     $  0.59\n",
      "Orange     $  1.29\n",
      "\n",
      "\n",
      "           $\n"
     ]
    }
   ],
   "source": [
    "#TASK 4\n",
    "\n",
    "items = [(\"Apple\", 0.99), (\"Banana\", 0.59), (\"Orange\", 1.29)]\n",
    "\n",
    "\n",
    "for item, price in items:\n",
    "    print(f\"{item:<10} $ {price:>5.2f}\")\n",
    "\n",
    "print(\"\\n\" *1)\n",
    "\n",
    "print(f\"{'$':>12}\")"
   ]
  },
  {
   "cell_type": "code",
   "execution_count": 1,
   "id": "c36fca9b",
   "metadata": {},
   "outputs": [
    {
     "name": "stdout",
     "output_type": "stream",
     "text": [
      "Please enter your numerical grade: 80\n",
      "Your letter grade is: A\n"
     ]
    }
   ],
   "source": [
    "grade = int(input('Please enter your numerical grade: '))\n",
    "\n",
    "if 70 <= grade <= 100:\n",
    "    print('Your letter grade is: A')\n",
    "elif 50 <= grade <= 69:\n",
    "    print('Your letter grade is: B')\n",
    "elif 35 <= grade <= 49:\n",
    "    print('Your letter grade is: C')\n",
    "elif 0 <= grade <= 34:\n",
    "    print('Your letter grade is: Fail')\n",
    "else:\n",
    "    print('Invalid grade entered. Please enter a number between 0 and 100.')"
   ]
  },
  {
   "cell_type": "code",
   "execution_count": null,
   "id": "b0218efa",
   "metadata": {},
   "outputs": [],
   "source": [
    "def factorial(n):\n",
    "    if n < 0:\n",
    "        return \"Invalid input\"\n",
    "    elif n == 0:\n",
    "        return 1\n",
    "    else:\n",
    "        result = 1\n",
    "        for number in range(1, n+1):\n",
    "            result *= number\n",
    "        return result\n",
    "\n",
    "\n",
    "print(factorial(5))   # Testing, expected output: 120\n",
    "print(factorial(-1))  # Testing, expected output: Invalid input"
   ]
  },
  {
   "cell_type": "code",
   "execution_count": null,
   "id": "33217d1b",
   "metadata": {},
   "outputs": [],
   "source": []
  }
 ],
 "metadata": {
  "kernelspec": {
   "display_name": "Python 3 (ipykernel)",
   "language": "python",
   "name": "python3"
  },
  "language_info": {
   "codemirror_mode": {
    "name": "ipython",
    "version": 3
   },
   "file_extension": ".py",
   "mimetype": "text/x-python",
   "name": "python",
   "nbconvert_exporter": "python",
   "pygments_lexer": "ipython3",
   "version": "3.9.12"
  },
  "toc": {
   "base_numbering": 1,
   "nav_menu": {},
   "number_sections": true,
   "sideBar": true,
   "skip_h1_title": false,
   "title_cell": "Table of Contents",
   "title_sidebar": "Contents",
   "toc_cell": false,
   "toc_position": {},
   "toc_section_display": true,
   "toc_window_display": false
  },
  "vscode": {
   "interpreter": {
    "hash": "31f2aee4e71d21fbe5cf8b01ff0e069b9275f58929596ceb00d14d90e3e16cd6"
   }
  }
 },
 "nbformat": 4,
 "nbformat_minor": 5
}
