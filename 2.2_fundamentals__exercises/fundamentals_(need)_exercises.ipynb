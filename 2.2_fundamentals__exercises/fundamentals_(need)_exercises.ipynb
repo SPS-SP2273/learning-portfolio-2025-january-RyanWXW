{
 "cells": [
  {
   "cell_type": "markdown",
   "id": "123456",
   "metadata": {},
   "source": [
    "<div style=\"text-align:left;font-size:2em\"><span style=\"font-weight:bolder;font-size:1.25em\">SP2273 | Learning Portfolio</span><br><br><span style=\"font-weight:bold;color:darkred\">Fundamentals (Need) Exercises</span></div>"
   ]
  },
  {
   "cell_type": "markdown",
   "id": "69096f34",
   "metadata": {},
   "source": [
    "### EXERCISE 1\n",
    "\n",
    "python basic features:\n",
    "\n",
    "basic function: print('input') and will generate an output\n",
    "python is case sensitive so Print and print or PRINT will cause issues \n",
    "python is also tab sensitive so in the case of \"if\" etc., a tab must exist on the line below for the condition to work\n",
    "\n",
    "python allows comments on code by simply using #, note that # in markdown cell is more used for title and headings and the number of # used correlates to the size of the title \n",
    "\n",
    "= is different from == (= is mean tot define and == is meant to prove)\n",
    "\n",
    "if and else function:\n",
    "make sure you define in the beginning before setting conditions \n",
    "\n",
    "x=6\n",
    "if x==6\n",
    "    print('equal')\n",
    "else\n",
    "    print('not equal')\n",
    "\n",
    "different bracets mean different things (), {}, []\n",
    "\n",
    "%%timeit for timing the run time of codes\n",
    "\n",
    "python allows the import of special packages for special functions (i.e. math and numpy)\n",
    "\n",
    "\n",
    "*identation and spacing is important and could make a big difference in the code\n",
    "\"age\" is english, age is a variable, like x\n",
    "()is for mathematics and calls to functions \n",
    "[] is for lists of data\n",
    "{} is for storing data in dictionary\n",
    "the dot . dictates ownership"
   ]
  },
  {
   "cell_type": "markdown",
   "id": "00a6cdb2",
   "metadata": {},
   "source": [
    "### EXERCISE 2"
   ]
  },
  {
   "cell_type": "code",
   "execution_count": 17,
   "id": "453e49fe",
   "metadata": {},
   "outputs": [
    {
     "name": "stdout",
     "output_type": "stream",
     "text": [
      "3 4 5.0\n"
     ]
    }
   ],
   "source": [
    "import math\n",
    "x, y = 3, 4\n",
    "z = math.sqrt(x**2 + y**2)\n",
    "print(x, y, z)"
   ]
  },
  {
   "cell_type": "markdown",
   "id": "26647003",
   "metadata": {},
   "source": [
    "### EXERCISE 3"
   ]
  },
  {
   "cell_type": "markdown",
   "id": "5259e933",
   "metadata": {},
   "source": [
    "|#|**Term**|**Description**|\n",
    "|---|---|---|\n",
    "|1|Function|a code that performs a specific task|\n",
    "|2|Arguement|a value passed to the function to customise its behavior|\n",
    "|3|Comments|allow you to label the task the function is performing without interfering with the code|\n",
    "|4|Indentations|spaces in a line after tab is clicked, used for defining blocks of code|\n",
    "|5|Packages|special packages that can be imported into the workbook to perform special tasks|\n",
    "|6|.|used to dictate ownership between variables and functions| \n",
    "|7|:|used to signal beginning of a code block|\n",
    "|8|[]|used for creating lists|\n",
    "|9|[[],[],]| used for creating lists of lists|\n",
    "|10|{}|used to create dictionaries|"
   ]
  },
  {
   "cell_type": "code",
   "execution_count": 18,
   "id": "b9012047",
   "metadata": {},
   "outputs": [
    {
     "data": {
      "text/plain": [
       "2.5"
      ]
     },
     "execution_count": 18,
     "metadata": {},
     "output_type": "execute_result"
    }
   ],
   "source": [
    "5/2           # What do I do? - divides"
   ]
  },
  {
   "cell_type": "code",
   "execution_count": 19,
   "id": "53dfe6ac",
   "metadata": {},
   "outputs": [
    {
     "data": {
      "text/plain": [
       "2"
      ]
     },
     "execution_count": 19,
     "metadata": {},
     "output_type": "execute_result"
    }
   ],
   "source": [
    "5//2          # What do I do? - divides and rounds the result to the lower nearest integer "
   ]
  },
  {
   "cell_type": "code",
   "execution_count": 20,
   "id": "765e52da",
   "metadata": {},
   "outputs": [
    {
     "data": {
      "text/plain": [
       "1"
      ]
     },
     "execution_count": 20,
     "metadata": {},
     "output_type": "execute_result"
    }
   ],
   "source": [
    "5%2           # What do I do? - displays the remaining after it is divided by 2 via simple division"
   ]
  }
 ],
 "metadata": {
  "kernelspec": {
   "display_name": "Python 3 (ipykernel)",
   "language": "python",
   "name": "python3"
  },
  "language_info": {
   "codemirror_mode": {
    "name": "ipython",
    "version": 3
   },
   "file_extension": ".py",
   "mimetype": "text/x-python",
   "name": "python",
   "nbconvert_exporter": "python",
   "pygments_lexer": "ipython3",
   "version": "3.9.12"
  },
  "toc": {
   "base_numbering": 1,
   "nav_menu": {},
   "number_sections": true,
   "sideBar": true,
   "skip_h1_title": false,
   "title_cell": "Table of Contents",
   "title_sidebar": "Contents",
   "toc_cell": false,
   "toc_position": {},
   "toc_section_display": true,
   "toc_window_display": false
  },
  "vscode": {
   "interpreter": {
    "hash": "31f2aee4e71d21fbe5cf8b01ff0e069b9275f58929596ceb00d14d90e3e16cd6"
   }
  }
 },
 "nbformat": 4,
 "nbformat_minor": 5
}
