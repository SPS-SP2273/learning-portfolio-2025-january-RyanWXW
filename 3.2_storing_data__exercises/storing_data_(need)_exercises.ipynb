{
 "cells": [
  {
   "cell_type": "markdown",
   "id": "123456",
   "metadata": {},
   "source": [
    "<div style=\"text-align:left;font-size:2em\"><span style=\"font-weight:bolder;font-size:1.25em\">SP2273 | Learning Portfolio</span><br><br><span style=\"font-weight:bold;color:darkred\">Storing Data (Need) Exercises</span></div>"
   ]
  },
  {
   "cell_type": "markdown",
   "id": "79c447c8",
   "metadata": {},
   "source": [
    "### EXERCISE 1"
   ]
  },
  {
   "cell_type": "markdown",
   "id": "371e58c9",
   "metadata": {},
   "source": [
    "Similarity 1: they are both ways to store data in python\n",
    "Similarity 2: they both us square brackets to index their contents \n",
    "\n",
    "Difference 1: arrays are more efficient and store less data as compared to lists \n",
    "Difference 2: under mathematics, a specific math command would perform different outputs between a list and array. for example mulitplying the contents of a list would mulitply the entire set and duplicate a copy to have double of the same indexes, while mulitplying the contents of an array would multiply each unit index by the multiplication factor \n",
    "\n",
    "A dictionary is a type of database where you can store data even if you have different sets/classes of data, as opposed to lists or arrays where you can only have one class of data "
   ]
  },
  {
   "cell_type": "markdown",
   "id": "c399b832",
   "metadata": {},
   "source": [
    "### EXERCISE 2 "
   ]
  },
  {
   "cell_type": "code",
   "execution_count": 1,
   "id": "bfdca178",
   "metadata": {},
   "outputs": [
    {
     "name": "stdout",
     "output_type": "stream",
     "text": [
      "a1 c3 e5 g7 i9\n"
     ]
    }
   ],
   "source": [
    "py_list = [\"a1\", \"b2\", \"c3\", \"d4\", \"e5\", \"f6\", \"g7\", \"h8\", \"i9\", \"j10\"]\n",
    "                  \n",
    "print(py_list[0],py_list[2],py_list[4],py_list[6],py_list[8])"
   ]
  },
  {
   "cell_type": "markdown",
   "id": "75d277c5",
   "metadata": {},
   "source": [
    "### EXERCISE 3"
   ]
  },
  {
   "cell_type": "code",
   "execution_count": 2,
   "id": "91b32fee",
   "metadata": {},
   "outputs": [],
   "source": [
    "elements = ['Hydrogen',\n",
    "            'Helium', 'Lithium',\n",
    "            'Beryllium', 'Boron', 'Carbon',\n",
    "            'Nitrogen', 'Oxygen',\n",
    "            'Fluorine',\n",
    "            'Neon']"
   ]
  },
  {
   "cell_type": "code",
   "execution_count": 4,
   "id": "37e93da5",
   "metadata": {},
   "outputs": [
    {
     "name": "stdout",
     "output_type": "stream",
     "text": [
      "Beryllium\n"
     ]
    }
   ],
   "source": [
    "print(elements[3])"
   ]
  },
  {
   "cell_type": "code",
   "execution_count": 5,
   "id": "7c0ce5bd",
   "metadata": {},
   "outputs": [
    {
     "name": "stdout",
     "output_type": "stream",
     "text": [
      "Beryllium\n"
     ]
    }
   ],
   "source": [
    "print(elements[-7])"
   ]
  },
  {
   "cell_type": "code",
   "execution_count": null,
   "id": "649a9a26",
   "metadata": {},
   "outputs": [],
   "source": []
  },
  {
   "cell_type": "markdown",
   "id": "abd15a7e",
   "metadata": {},
   "source": [
    "### EXERCISE 4"
   ]
  },
  {
   "cell_type": "code",
   "execution_count": 6,
   "id": "a0e89a68",
   "metadata": {},
   "outputs": [],
   "source": [
    "import numpy as np"
   ]
  },
  {
   "cell_type": "code",
   "execution_count": 10,
   "id": "3b9aa7e8",
   "metadata": {},
   "outputs": [],
   "source": [
    "numbers=[45, 60, 1, 30, 96, 1, 96, 57, 16, 1,\n",
    "        99, 62, 86, 43, 42, 60, 59, 1, 1, 35,\n",
    "        83, 47, 34, 28, 68, 23, 22, 92, 1, 79,\n",
    "        1, 29, 94, 72, 46, 47, 1, 74, 32, 20,\n",
    "        8, 37, 35, 1, 89, 29, 86, 19, 43, 61]                  "
   ]
  },
  {
   "cell_type": "code",
   "execution_count": 15,
   "id": "044533e7",
   "metadata": {},
   "outputs": [],
   "source": [
    "numbers_array = np.array(numbers)"
   ]
  },
  {
   "cell_type": "code",
   "execution_count": 17,
   "id": "251849d9",
   "metadata": {},
   "outputs": [
    {
     "name": "stdout",
     "output_type": "stream",
     "text": [
      "9\n"
     ]
    }
   ],
   "source": [
    "ones_array = numbers_array == 1\n",
    "\n",
    "count_of_ones = np.sum(ones_array)\n",
    "\n",
    "print(count_of_ones)\n"
   ]
  },
  {
   "cell_type": "markdown",
   "id": "50dd29e4",
   "metadata": {},
   "source": [
    "### EXERCISE 5"
   ]
  },
  {
   "cell_type": "code",
   "execution_count": 35,
   "id": "8f57820f",
   "metadata": {},
   "outputs": [],
   "source": [
    "import numpy as np\n",
    "x_1 = [1, 4, 9, 16, 25, 36, 49, 64, 81, 100]\n",
    "x_2 = [1, 8, 27, 64, 125, 216, 343, 512, 729, 1000]\n",
    "\n",
    "x_1 = np.array(x_1)\n",
    "x_2 = np.array(x_2)\n"
   ]
  },
  {
   "cell_type": "code",
   "execution_count": 37,
   "id": "90466dc1",
   "metadata": {},
   "outputs": [
    {
     "name": "stdout",
     "output_type": "stream",
     "text": [
      "Mean of x_1: 38.5\n"
     ]
    }
   ],
   "source": [
    "# mean of x1\n",
    "mean_x1 = np.mean(x_1)\n",
    "print(f\"Mean of x_1: {mean_x1}\")"
   ]
  },
  {
   "cell_type": "code",
   "execution_count": 38,
   "id": "05ab6904",
   "metadata": {},
   "outputs": [
    {
     "name": "stdout",
     "output_type": "stream",
     "text": [
      "Mean of x_2: 302.5\n"
     ]
    }
   ],
   "source": [
    "# mean of x2\n",
    "mean_x2 = np.mean(x_2)\n",
    "print(f\"Mean of x_2: {mean_x2}\")"
   ]
  },
  {
   "cell_type": "code",
   "execution_count": 39,
   "id": "26e69e8e",
   "metadata": {},
   "outputs": [
    {
     "name": "stdout",
     "output_type": "stream",
     "text": [
      "Std of x_1: 32.41990129534635\n"
     ]
    }
   ],
   "source": [
    "# standard dev of x1\n",
    "std_x1 = np.std(x_1)\n",
    "print(f\"Std of x_1: {std_x1}\")"
   ]
  },
  {
   "cell_type": "code",
   "execution_count": 40,
   "id": "d71685b4",
   "metadata": {},
   "outputs": [
    {
     "name": "stdout",
     "output_type": "stream",
     "text": [
      "Std of x_2: 326.0893282522444\n"
     ]
    }
   ],
   "source": [
    "# standard dev of x2\n",
    "std_x2 = np.std(x_2)\n",
    "print(f\"Std of x_2: {std_x2}\")"
   ]
  },
  {
   "cell_type": "code",
   "execution_count": 46,
   "id": "6986f2e2",
   "metadata": {},
   "outputs": [
    {
     "name": "stdout",
     "output_type": "stream",
     "text": [
      "value of r: 0.9871796626270701\n",
      "value of r using np.corroef: 0.9871796626270701\n",
      "Difference: 0.0\n"
     ]
    }
   ],
   "source": [
    "# r = sum((x_i - mean_x) * (y_i - mean_y)) / (std_x * std_y * n)\n",
    "\n",
    "n = len(x_1)\n",
    "numerator = np.sum((x_1 - mean_x1) * (x_2 - mean_x2))\n",
    "denominator = np.sqrt(np.sum((x_1 - mean_x1)**2) * np.sum((x_2 - mean_x2)**2))\n",
    "r = numerator / denominator\n",
    "\n",
    "print(f\"value of r: {r}\")\n",
    "\n",
    "\n",
    "r_np = np.corrcoef(x_1, x_2)[0, 1]\n",
    "print(f\"value of r using np.corroef: {r_np}\")\n",
    "print(f\"Difference: {abs(r - r_np)}\")\n"
   ]
  },
  {
   "cell_type": "code",
   "execution_count": null,
   "id": "e12818ec",
   "metadata": {},
   "outputs": [],
   "source": []
  }
 ],
 "metadata": {
  "kernelspec": {
   "display_name": "Python 3 (ipykernel)",
   "language": "python",
   "name": "python3"
  },
  "language_info": {
   "codemirror_mode": {
    "name": "ipython",
    "version": 3
   },
   "file_extension": ".py",
   "mimetype": "text/x-python",
   "name": "python",
   "nbconvert_exporter": "python",
   "pygments_lexer": "ipython3",
   "version": "3.9.12"
  },
  "toc": {
   "base_numbering": 1,
   "nav_menu": {},
   "number_sections": true,
   "sideBar": true,
   "skip_h1_title": false,
   "title_cell": "Table of Contents",
   "title_sidebar": "Contents",
   "toc_cell": false,
   "toc_position": {},
   "toc_section_display": true,
   "toc_window_display": false
  },
  "vscode": {
   "interpreter": {
    "hash": "31f2aee4e71d21fbe5cf8b01ff0e069b9275f58929596ceb00d14d90e3e16cd6"
   }
  }
 },
 "nbformat": 4,
 "nbformat_minor": 5
}
