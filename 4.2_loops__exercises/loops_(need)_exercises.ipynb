{
 "cells": [
  {
   "cell_type": "markdown",
   "id": "123456",
   "metadata": {},
   "source": [
    "<div style=\"text-align:left;font-size:2em\"><span style=\"font-weight:bolder;font-size:1.25em\">SP2273 | Learning Portfolio</span><br><br><span style=\"font-weight:bold;color:darkred\">Loops (Need) Exercises</span></div>"
   ]
  },
  {
   "cell_type": "markdown",
   "id": "0e2c725e",
   "metadata": {},
   "source": [
    "### EXERCISE 1"
   ]
  },
  {
   "cell_type": "code",
   "execution_count": 3,
   "id": "2f9fab5b",
   "metadata": {},
   "outputs": [
    {
     "name": "stdout",
     "output_type": "stream",
     "text": [
      "0 Celsius, 32.0 Fahrenheit\n",
      "5 Celsius, 41.0 Fahrenheit\n",
      "10 Celsius, 50.0 Fahrenheit\n",
      "15 Celsius, 59.0 Fahrenheit\n",
      "20 Celsius, 68.0 Fahrenheit\n",
      "25 Celsius, 77.0 Fahrenheit\n",
      "30 Celsius, 86.0 Fahrenheit\n",
      "35 Celsius, 95.0 Fahrenheit\n",
      "40 Celsius, 104.0 Fahrenheit\n",
      "45 Celsius, 113.0 Fahrenheit\n",
      "50 Celsius, 122.0 Fahrenheit\n"
     ]
    }
   ],
   "source": [
    "temperatures_celsius = [\n",
    "    0, 5, 10, 15, 20, 25,\n",
    "    30, 35, 40, 45, 50\n",
    "]\n",
    "\n",
    "for c in temperatures_celsius:\n",
    "  f = (c * 9/5) + 32\n",
    "  print(f\"{c} Celsius, {f} Fahrenheit\")\n"
   ]
  },
  {
   "cell_type": "markdown",
   "id": "82c1a44f",
   "metadata": {},
   "source": [
    "### EXERCISE 2"
   ]
  },
  {
   "cell_type": "code",
   "execution_count": 5,
   "id": "837cef0b",
   "metadata": {},
   "outputs": [
    {
     "name": "stdout",
     "output_type": "stream",
     "text": [
      "A1\t\n",
      "\n",
      "A2\t\n",
      "\n",
      "A3\t\n",
      "\n",
      "B1\t\n",
      "\n",
      "B2\t\n",
      "\n",
      "B3\t\n",
      "\n",
      "C1\t\n",
      "\n",
      "C2\t\n",
      "\n",
      "C3\t\n",
      "\n"
     ]
    }
   ],
   "source": [
    "for letter in ['A', 'B', 'C']:\n",
    "    for number in [1, 2, 3]:\n",
    "        print(f'{letter}{number}', end='\\t')\n",
    "        print('\\n')"
   ]
  },
  {
   "cell_type": "code",
   "execution_count": 6,
   "id": "2690cf3a",
   "metadata": {},
   "outputs": [
    {
     "name": "stdout",
     "output_type": "stream",
     "text": [
      "A1\tA2\tA3\t\n",
      "\n",
      "B1\tB2\tB3\t\n",
      "\n",
      "C1\tC2\tC3\t\n",
      "\n"
     ]
    }
   ],
   "source": [
    "for letter in ['A', 'B', 'C']:\n",
    "    for number in [1, 2, 3]:\n",
    "        print(f'{letter}{number}', end='\\t')\n",
    "    print('\\n')"
   ]
  },
  {
   "cell_type": "code",
   "execution_count": null,
   "id": "b5361cfb",
   "metadata": {},
   "outputs": [],
   "source": []
  },
  {
   "cell_type": "code",
   "execution_count": 40,
   "id": "697c1ce7",
   "metadata": {},
   "outputs": [
    {
     "name": "stdout",
     "output_type": "stream",
     "text": [
      "1 :  1  2  3  4  5  \n",
      "\n",
      "2 :  2  4  6  8  10  \n",
      "\n",
      "3 :  3  6  9  12  15  \n",
      "\n",
      "4 :  4  8  12  16  20  \n",
      "\n",
      "5 :  5  10  15  20  25  \n",
      "\n"
     ]
    }
   ],
   "source": [
    "for number in range(1,6):\n",
    "    print(f\"{number} : \", end=\" \")  \n",
    "    for multiplier in range(1,6):\n",
    "        print(number * multiplier, end=\"  \")  \n",
    "    print('\\n')  \n"
   ]
  },
  {
   "cell_type": "markdown",
   "id": "b725cf8c",
   "metadata": {},
   "source": [
    "### EXERCISE 3"
   ]
  },
  {
   "cell_type": "code",
   "execution_count": 45,
   "id": "c65355c0",
   "metadata": {},
   "outputs": [
    {
     "data": {
      "text/plain": [
       "array([0.34882401, 0.5460357 , 0.96531123, 0.19577728, 0.52458785,\n",
       "       0.20224931, 0.18583285, 0.44309365, 0.71382947, 0.32155416])"
      ]
     },
     "execution_count": 45,
     "metadata": {},
     "output_type": "execute_result"
    }
   ],
   "source": [
    "import numpy as np\n",
    "np.random.rand(10)"
   ]
  },
  {
   "cell_type": "markdown",
   "id": "9960dd56",
   "metadata": {},
   "source": [
    "generates numbers only between 0 and 1 because it samples values from the standard uniform distribution, which is defined over the range (0,1)"
   ]
  },
  {
   "cell_type": "code",
   "execution_count": 48,
   "id": "6cb10441",
   "metadata": {},
   "outputs": [
    {
     "name": "stdout",
     "output_type": "stream",
     "text": [
      "Experiment 1: No. of Heads = 5\n",
      "Experiment 2: No. of Heads = 3\n",
      "Experiment 3: No. of Heads = 7\n",
      "Experiment 4: No. of Heads = 7\n",
      "Experiment 5: No. of Heads = 7\n",
      "Experiment 6: No. of Heads = 4\n",
      "Experiment 7: No. of Heads = 1\n",
      "Experiment 8: No. of Heads = 4\n",
      "Experiment 9: No. of Heads = 6\n",
      "Experiment 10: No. of Heads = 4\n"
     ]
    }
   ],
   "source": [
    "for experiment in range(1, 11):  # 10 experiment loops\n",
    "    random_values = np.random.rand(10)  \n",
    "    heads = sum(random_values >= 0.5)   # Count values >= 0.5 as Heads\n",
    "    print(f\"Experiment {experiment}: No. of Heads = {heads}\")"
   ]
  },
  {
   "cell_type": "code",
   "execution_count": null,
   "id": "80d6b4ce",
   "metadata": {},
   "outputs": [],
   "source": []
  }
 ],
 "metadata": {
  "kernelspec": {
   "display_name": "Python 3 (ipykernel)",
   "language": "python",
   "name": "python3"
  },
  "language_info": {
   "codemirror_mode": {
    "name": "ipython",
    "version": 3
   },
   "file_extension": ".py",
   "mimetype": "text/x-python",
   "name": "python",
   "nbconvert_exporter": "python",
   "pygments_lexer": "ipython3",
   "version": "3.9.12"
  },
  "toc": {
   "base_numbering": 1,
   "nav_menu": {},
   "number_sections": true,
   "sideBar": true,
   "skip_h1_title": false,
   "title_cell": "Table of Contents",
   "title_sidebar": "Contents",
   "toc_cell": false,
   "toc_position": {},
   "toc_section_display": true,
   "toc_window_display": false
  },
  "vscode": {
   "interpreter": {
    "hash": "31f2aee4e71d21fbe5cf8b01ff0e069b9275f58929596ceb00d14d90e3e16cd6"
   }
  }
 },
 "nbformat": 4,
 "nbformat_minor": 5
}
