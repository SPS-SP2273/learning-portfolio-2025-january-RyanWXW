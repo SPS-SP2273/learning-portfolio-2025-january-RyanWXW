{
 "cells": [
  {
   "cell_type": "markdown",
   "id": "123456",
   "metadata": {},
   "source": [
    "<div style=\"text-align:left;font-size:2em\"><span style=\"font-weight:bolder;font-size:1.25em\">SP2273 | Learning Portfolio</span><br><br><span style=\"font-weight:bold;color:darkred\">Functions (Good) Exercises</span></div>"
   ]
  },
  {
   "cell_type": "markdown",
   "id": "7f3fb1f8",
   "metadata": {},
   "source": [
    "### EXERCISE 1"
   ]
  },
  {
   "cell_type": "code",
   "execution_count": null,
   "id": "0988c4ee",
   "metadata": {},
   "outputs": [],
   "source": []
  },
  {
   "cell_type": "code",
   "execution_count": 1,
   "id": "bf98e017",
   "metadata": {},
   "outputs": [],
   "source": [
    "def convert_celsius(temperature_celsius, target_scale='Fahrenheit'):\n",
    "    \n",
    "    if target_scale == 'Kelvin':\n",
    "        return temperature_celsius + 273.15\n",
    "    else:  \n",
    "        return (temperature_celsius * 9/5) + 32"
   ]
  },
  {
   "cell_type": "code",
   "execution_count": 2,
   "id": "ec3fb35a",
   "metadata": {},
   "outputs": [
    {
     "data": {
      "text/plain": [
       "60.8"
      ]
     },
     "execution_count": 2,
     "metadata": {},
     "output_type": "execute_result"
    }
   ],
   "source": [
    "convert_celsius(16) #default without specifying target scale "
   ]
  },
  {
   "cell_type": "code",
   "execution_count": 3,
   "id": "73b4f94f",
   "metadata": {},
   "outputs": [
    {
     "data": {
      "text/plain": [
       "60.8"
      ]
     },
     "execution_count": 3,
     "metadata": {},
     "output_type": "execute_result"
    }
   ],
   "source": [
    "convert_celsius(16, target_scale='Fahrenheit') #with specifying target scale to original"
   ]
  },
  {
   "cell_type": "code",
   "execution_count": 4,
   "id": "bd88fc8d",
   "metadata": {},
   "outputs": [
    {
     "data": {
      "text/plain": [
       "289.15"
      ]
     },
     "execution_count": 4,
     "metadata": {},
     "output_type": "execute_result"
    }
   ],
   "source": [
    "convert_celsius(16, target_scale='Kelvin') #with specifying target scale to K"
   ]
  },
  {
   "cell_type": "code",
   "execution_count": null,
   "id": "72225acb",
   "metadata": {},
   "outputs": [],
   "source": []
  },
  {
   "cell_type": "markdown",
   "id": "adbfdb28",
   "metadata": {},
   "source": [
    "### EXERCISE 2 "
   ]
  },
  {
   "cell_type": "code",
   "execution_count": 8,
   "id": "1a4c5120",
   "metadata": {},
   "outputs": [
    {
     "name": "stderr",
     "output_type": "stream",
     "text": [
      "<>:6: SyntaxWarning: 'int' object is not callable; perhaps you missed a comma?\n",
      "<>:6: SyntaxWarning: 'int' object is not callable; perhaps you missed a comma?\n",
      "/var/folders/3l/62hhb00902x92gh3vvhlf6pr0000gn/T/ipykernel_3226/1425085341.py:6: SyntaxWarning: 'int' object is not callable; perhaps you missed a comma?\n",
      "  return 5/9(temperature_fahrenheit-32)\n"
     ]
    }
   ],
   "source": [
    "def convert_fahrenheit(temperature_fahrenheit, target_scale='Celsius'):\n",
    "    \n",
    "    if target_scale == 'Kelvin':\n",
    "        return (temperature_fahrenheit-32)* 5/9 + 273.15\n",
    "    else:  \n",
    "        return 5/9(temperature_fahrenheit-32)"
   ]
  },
  {
   "cell_type": "code",
   "execution_count": 9,
   "id": "5ee1188b",
   "metadata": {},
   "outputs": [],
   "source": [
    "def convert_fahrenheit(temperature_fahrenheit, target_scale='Celsius'):\n",
    "   \n",
    "    temperature_celsius = (temperature_fahrenheit - 32) * 5 / 9\n",
    "\n",
    "    if target_scale == 'Kelvin':\n",
    "        temperature_kelvin = temperature_celsius + 273.15\n",
    "        return temperature_kelvin\n",
    "    else:\n",
    "        return temperature_celsius"
   ]
  },
  {
   "cell_type": "code",
   "execution_count": 10,
   "id": "aab8945d",
   "metadata": {},
   "outputs": [
    {
     "data": {
      "text/plain": [
       "20.0"
      ]
     },
     "execution_count": 10,
     "metadata": {},
     "output_type": "execute_result"
    }
   ],
   "source": [
    "convert_fahrenheit(68)"
   ]
  },
  {
   "cell_type": "code",
   "execution_count": 12,
   "id": "cc9055ae",
   "metadata": {},
   "outputs": [
    {
     "data": {
      "text/plain": [
       "20.0"
      ]
     },
     "execution_count": 12,
     "metadata": {},
     "output_type": "execute_result"
    }
   ],
   "source": [
    "convert_fahrenheit(68, target_scale='Celsius')"
   ]
  },
  {
   "cell_type": "code",
   "execution_count": 13,
   "id": "75e8208f",
   "metadata": {},
   "outputs": [
    {
     "data": {
      "text/plain": [
       "293.15"
      ]
     },
     "execution_count": 13,
     "metadata": {},
     "output_type": "execute_result"
    }
   ],
   "source": [
    "convert_fahrenheit(68, target_scale='Kelvin')"
   ]
  },
  {
   "cell_type": "markdown",
   "id": "46465580",
   "metadata": {},
   "source": [
    "### EXERCISE 3"
   ]
  },
  {
   "cell_type": "code",
   "execution_count": 14,
   "id": "b6bf6e75",
   "metadata": {},
   "outputs": [
    {
     "ename": "SyntaxError",
     "evalue": "invalid syntax (3964412053.py, line 1)",
     "output_type": "error",
     "traceback": [
      "\u001b[0;36m  File \u001b[0;32m\"/var/folders/3l/62hhb00902x92gh3vvhlf6pr0000gn/T/ipykernel_3226/3964412053.py\"\u001b[0;36m, line \u001b[0;32m1\u001b[0m\n\u001b[0;31m    def convert_temperature(temperature, source scale = 'Celsius'| 'Fahrenheit' | 'Kelvin', target_scale)\u001b[0m\n\u001b[0m                                                ^\u001b[0m\n\u001b[0;31mSyntaxError\u001b[0m\u001b[0;31m:\u001b[0m invalid syntax\n"
     ]
    }
   ],
   "source": [
    "def convert_temperature(temperature, source scale = 'Celsius'| 'Fahrenheit' | 'Kelvin', target_scale)\n",
    "\n"
   ]
  },
  {
   "cell_type": "code",
   "execution_count": null,
   "id": "70c2717f",
   "metadata": {},
   "outputs": [],
   "source": []
  }
 ],
 "metadata": {
  "kernelspec": {
   "display_name": "Python 3 (ipykernel)",
   "language": "python",
   "name": "python3"
  },
  "language_info": {
   "codemirror_mode": {
    "name": "ipython",
    "version": 3
   },
   "file_extension": ".py",
   "mimetype": "text/x-python",
   "name": "python",
   "nbconvert_exporter": "python",
   "pygments_lexer": "ipython3",
   "version": "3.9.12"
  },
  "toc": {
   "base_numbering": 1,
   "nav_menu": {},
   "number_sections": true,
   "sideBar": true,
   "skip_h1_title": false,
   "title_cell": "Table of Contents",
   "title_sidebar": "Contents",
   "toc_cell": false,
   "toc_position": {},
   "toc_section_display": true,
   "toc_window_display": false
  },
  "vscode": {
   "interpreter": {
    "hash": "31f2aee4e71d21fbe5cf8b01ff0e069b9275f58929596ceb00d14d90e3e16cd6"
   }
  }
 },
 "nbformat": 4,
 "nbformat_minor": 5
}
