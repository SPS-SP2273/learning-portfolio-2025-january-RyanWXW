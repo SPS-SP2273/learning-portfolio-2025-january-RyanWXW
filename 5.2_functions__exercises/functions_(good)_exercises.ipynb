{
 "cells": [
  {
   "cell_type": "markdown",
   "id": "123456",
   "metadata": {},
   "source": [
    "<div style=\"text-align:left;font-size:2em\"><span style=\"font-weight:bolder;font-size:1.25em\">SP2273 | Learning Portfolio</span><br><br><span style=\"font-weight:bold;color:darkred\">Functions (Good) Exercises</span></div>"
   ]
  },
  {
   "cell_type": "markdown",
   "id": "23db0785",
   "metadata": {},
   "source": [
    "### EXERCISE 1"
   ]
  },
  {
   "cell_type": "code",
   "execution_count": null,
   "id": "f5f095be",
   "metadata": {},
   "outputs": [],
   "source": []
  },
  {
   "cell_type": "code",
   "execution_count": 13,
   "id": "9260f98e",
   "metadata": {},
   "outputs": [],
   "source": [
    "def convert_celsius(temperature_celsius, target_scale='Fahrenheit'):\n",
    "    \n",
    "    if target_scale == 'Kelvin':\n",
    "        return temperature_celsius + 273.15\n",
    "  #  else:\n",
    "        return (temperature_celsius * 9/5) + 32"
   ]
  },
  {
   "cell_type": "code",
   "execution_count": 14,
   "id": "ea9a5641",
   "metadata": {},
   "outputs": [],
   "source": [
    "convert_celsius(16) #default without specifying target scale "
   ]
  },
  {
   "cell_type": "code",
   "execution_count": 15,
   "id": "47bf70e2",
   "metadata": {},
   "outputs": [],
   "source": [
    "convert_celsius(16, target_scale='Fahrenheit') #with specifying target scale to original"
   ]
  },
  {
   "cell_type": "code",
   "execution_count": 16,
   "id": "b8467362",
   "metadata": {},
   "outputs": [
    {
     "data": {
      "text/plain": [
       "289.15"
      ]
     },
     "execution_count": 16,
     "metadata": {},
     "output_type": "execute_result"
    }
   ],
   "source": [
    "convert_celsius(16, target_scale='Kelvin') #with specifying target scale to K"
   ]
  },
  {
   "cell_type": "code",
   "execution_count": null,
   "id": "915098c2",
   "metadata": {},
   "outputs": [],
   "source": []
  },
  {
   "cell_type": "markdown",
   "id": "5b71391c",
   "metadata": {},
   "source": [
    "### EXERCISE 2 "
   ]
  },
  {
   "cell_type": "code",
   "execution_count": 8,
   "id": "02db32be",
   "metadata": {},
   "outputs": [
    {
     "name": "stderr",
     "output_type": "stream",
     "text": [
      "<>:6: SyntaxWarning: 'int' object is not callable; perhaps you missed a comma?\n",
      "<>:6: SyntaxWarning: 'int' object is not callable; perhaps you missed a comma?\n",
      "/var/folders/3l/62hhb00902x92gh3vvhlf6pr0000gn/T/ipykernel_3226/1425085341.py:6: SyntaxWarning: 'int' object is not callable; perhaps you missed a comma?\n",
      "  return 5/9(temperature_fahrenheit-32)\n"
     ]
    }
   ],
   "source": [
    "def convert_fahrenheit(temperature_fahrenheit, target_scale='Celsius'):\n",
    "    \n",
    "    if target_scale == 'Kelvin':\n",
    "        return (temperature_fahrenheit-32)* 5/9 + 273.15\n",
    "    else:  \n",
    "        return 5/9(temperature_fahrenheit-32)"
   ]
  },
  {
   "cell_type": "code",
   "execution_count": 9,
   "id": "2ef0ca97",
   "metadata": {},
   "outputs": [],
   "source": [
    "def convert_fahrenheit(temperature_fahrenheit, target_scale='Celsius'):\n",
    "   \n",
    "    temperature_celsius = (temperature_fahrenheit - 32) * 5 / 9\n",
    "\n",
    "    if target_scale == 'Kelvin':\n",
    "        temperature_kelvin = temperature_celsius + 273.15\n",
    "        return temperature_kelvin\n",
    "    else:\n",
    "        return temperature_celsius"
   ]
  },
  {
   "cell_type": "code",
   "execution_count": 10,
   "id": "91702efe",
   "metadata": {},
   "outputs": [
    {
     "data": {
      "text/plain": [
       "20.0"
      ]
     },
     "execution_count": 10,
     "metadata": {},
     "output_type": "execute_result"
    }
   ],
   "source": [
    "convert_fahrenheit(68)"
   ]
  },
  {
   "cell_type": "code",
   "execution_count": 12,
   "id": "3f929236",
   "metadata": {},
   "outputs": [
    {
     "data": {
      "text/plain": [
       "20.0"
      ]
     },
     "execution_count": 12,
     "metadata": {},
     "output_type": "execute_result"
    }
   ],
   "source": [
    "convert_fahrenheit(68, target_scale='Celsius')"
   ]
  },
  {
   "cell_type": "code",
   "execution_count": 13,
   "id": "c5ac643f",
   "metadata": {},
   "outputs": [
    {
     "data": {
      "text/plain": [
       "293.15"
      ]
     },
     "execution_count": 13,
     "metadata": {},
     "output_type": "execute_result"
    }
   ],
   "source": [
    "convert_fahrenheit(68, target_scale='Kelvin')"
   ]
  },
  {
   "cell_type": "markdown",
   "id": "317b5290",
   "metadata": {},
   "source": [
    "### EXERCISE 3"
   ]
  },
  {
   "cell_type": "code",
   "execution_count": null,
   "id": "57413bb6",
   "metadata": {},
   "outputs": [],
   "source": [
    "\n"
   ]
  },
  {
   "cell_type": "code",
   "execution_count": 16,
   "id": "fd917380",
   "metadata": {},
   "outputs": [
    {
     "name": "stdout",
     "output_type": "stream",
     "text": [
      "25 degrees Celsius is equal to 77.0 degrees Fahrenheit\n"
     ]
    }
   ],
   "source": [
    "def convert_temperature(temperature, source_scale, target_scale):\n",
    "\n",
    "    if source_scale.lower() == 'fahrenheit':\n",
    "        temp_celsius = (temperature - 32) * 5/9\n",
    "    elif source_scale.lower() == 'kelvin':\n",
    "        temp_celsius = temperature - 273.15\n",
    "    else:  \n",
    "        temp_celsius = temperature\n",
    "\n",
    "    if target_scale.lower() == 'fahrenheit':\n",
    "        return (temp_celsius * 9/5) + 32\n",
    "    elif target_scale.lower() == 'kelvin':\n",
    "        return temp_celsius + 273.15\n",
    "    else:  \n",
    "        return temp_celsius\n",
    "\n",
    "temperature = 25\n",
    "source_scale = 'Celsius'\n",
    "target_scale = 'Fahrenheit'\n",
    "converted_temperature = convert_temperature(temperature, source_scale, target_scale)\n",
    "print(f\"{temperature} degrees {source_scale} is equal to {converted_temperature} degrees {target_scale}\")\n",
    "\n"
   ]
  }
 ],
 "metadata": {
  "kernelspec": {
   "display_name": "Python 3 (ipykernel)",
   "language": "python",
   "name": "python3"
  },
  "language_info": {
   "codemirror_mode": {
    "name": "ipython",
    "version": 3
   },
   "file_extension": ".py",
   "mimetype": "text/x-python",
   "name": "python",
   "nbconvert_exporter": "python",
   "pygments_lexer": "ipython3",
   "version": "3.12.9"
  },
  "toc": {
   "base_numbering": 1,
   "nav_menu": {},
   "number_sections": true,
   "sideBar": true,
   "skip_h1_title": false,
   "title_cell": "Table of Contents",
   "title_sidebar": "Contents",
   "toc_cell": false,
   "toc_position": {},
   "toc_section_display": true,
   "toc_window_display": false
  },
  "vscode": {
   "interpreter": {
    "hash": "31f2aee4e71d21fbe5cf8b01ff0e069b9275f58929596ceb00d14d90e3e16cd6"
   }
  }
 },
 "nbformat": 4,
 "nbformat_minor": 5
}
