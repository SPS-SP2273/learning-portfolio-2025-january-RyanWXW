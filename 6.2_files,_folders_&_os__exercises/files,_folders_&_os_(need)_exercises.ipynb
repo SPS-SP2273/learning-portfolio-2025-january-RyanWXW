{
 "cells": [
  {
   "cell_type": "markdown",
   "id": "123456",
   "metadata": {},
   "source": [
    "<div style=\"text-align:left;font-size:2em\"><span style=\"font-weight:bolder;font-size:1.25em\">SP2273 | Learning Portfolio</span><br><br><span style=\"font-weight:bold;color:darkred\">Files, Folders & OS (Need) Exercises</span></div>"
   ]
  },
  {
   "cell_type": "markdown",
   "id": "26886ffc",
   "metadata": {},
   "source": [
    "### TASK 1"
   ]
  },
  {
   "cell_type": "code",
   "execution_count": 3,
   "id": "add6a683",
   "metadata": {},
   "outputs": [],
   "source": [
    "import glob\n",
    "import os \n",
    "import shutil"
   ]
  },
  {
   "cell_type": "code",
   "execution_count": null,
   "id": "828b1224",
   "metadata": {},
   "outputs": [],
   "source": []
  },
  {
   "cell_type": "code",
   "execution_count": 7,
   "id": "1152f992",
   "metadata": {},
   "outputs": [
    {
     "name": "stdout",
     "output_type": "stream",
     "text": [
      "10-08_singapore.txt\n"
     ]
    }
   ],
   "source": [
    "month_dict = {\n",
    "    'jan': '01', 'feb': '02', 'mar': '03',\n",
    "    'apr': '04', 'may': '05', 'jun': '06',\n",
    "    'jul': '07', 'aug': '08', 'sep': '09',\n",
    "    'oct': '10', 'nov': '11', 'dec': '12'\n",
    "}\n",
    "\n",
    "filename = 'oct-08_singapore.txt'\n",
    "parts = filename.split('-')\n",
    "month = parts[0]\n",
    "rest = '-'.join(parts[1:]) \n",
    "\n",
    "new_filename = month_dict[month] + '-' + rest\n",
    "\n",
    "print(new_filename)\n",
    "\n"
   ]
  },
  {
   "cell_type": "code",
   "execution_count": 8,
   "id": "22770d8e",
   "metadata": {},
   "outputs": [
    {
     "name": "stdout",
     "output_type": "stream",
     "text": [
      "10-08-singapore.txt\n"
     ]
    }
   ],
   "source": [
    "month_dict = {\n",
    "    'jan': '01', 'feb': '02', 'mar': '03',\n",
    "    'apr': '04', 'may': '05', 'jun': '06',\n",
    "    'jul': '07', 'aug': '08', 'sep': '09',\n",
    "    'oct': '10', 'nov': '11', 'dec': '12'\n",
    "}\n",
    "\n",
    "filename = 'oct-08_singapore.txt'\n",
    "parts = filename.split('-')\n",
    "month = parts[0]\n",
    "rest = parts[1]  \n",
    "date_city = rest.replace('_', '-')  \n",
    "\n",
    "new_filename = month_dict[month] + '-' + date_city\n",
    "\n",
    "print(new_filename)\n"
   ]
  },
  {
   "cell_type": "markdown",
   "id": "f21951e8",
   "metadata": {},
   "source": [
    "### TASK 2\n"
   ]
  },
  {
   "cell_type": "code",
   "execution_count": 9,
   "id": "5d14b126",
   "metadata": {},
   "outputs": [],
   "source": [
    "def rename_my_file(old_file_name):\n",
    "\n",
    "    month_dict = {\n",
    "        'jan': '01', 'feb': '02', 'mar': '03',\n",
    "        'apr': '04', 'may': '05', 'jun': '06',\n",
    "        'jul': '07', 'aug': '08', 'sep': '09',\n",
    "        'oct': '10', 'nov': '11', 'dec': '12'\n",
    "    }\n",
    "\n",
    "    parts = old_file_name.split('-')\n",
    "    month = parts[0]\n",
    "    rest = parts[1]\n",
    "    date_city = rest.replace('_', '-')\n",
    "\n",
    "    new_filename = month_dict[month] + '-' + date_city\n",
    "\n",
    "    return new_filename"
   ]
  },
  {
   "cell_type": "code",
   "execution_count": 10,
   "id": "ba1ca19a",
   "metadata": {},
   "outputs": [
    {
     "name": "stdout",
     "output_type": "stream",
     "text": [
      "Original filename: oct-08_singapore.txt\n",
      "Renamed filename: 10-08-singapore.txt\n"
     ]
    }
   ],
   "source": [
    "old_filename = 'oct-08_singapore.txt'\n",
    "new_filename = rename_my_file(old_filename)\n",
    "print(f\"Old filename: {old_filename}\")\n",
    "print(f\"New filename: {new_filename}\")"
   ]
  },
  {
   "cell_type": "code",
   "execution_count": null,
   "id": "42da2771",
   "metadata": {},
   "outputs": [],
   "source": []
  },
  {
   "cell_type": "markdown",
   "id": "d298c51e",
   "metadata": {},
   "source": [
    "### TASK 3"
   ]
  },
  {
   "cell_type": "code",
   "execution_count": null,
   "id": "41715539",
   "metadata": {},
   "outputs": [],
   "source": []
  },
  {
   "cell_type": "code",
   "execution_count": null,
   "id": "31723465",
   "metadata": {},
   "outputs": [],
   "source": []
  },
  {
   "cell_type": "code",
   "execution_count": 15,
   "id": "5b65fd25",
   "metadata": {},
   "outputs": [
    {
     "name": "stdout",
     "output_type": "stream",
     "text": [
      "oct-08_singapore.txt ----> 10-08-singapore.txt\n",
      "jul-10_cairo.txt ----> 07-10-cairo.txt\n",
      "may-15_dhaka.txt ----> 05-15-dhaka.txt\n",
      "may-13_cairo.txt ----> 05-13-cairo.txt\n",
      "oct-21_cairo.txt ----> 10-21-cairo.txt\n",
      "jan-10_singapore.txt ----> 01-10-singapore.txt\n",
      "jun-20_tokyo.txt ----> 06-20-tokyo.txt\n",
      "aug-06_jakarta.txt ----> 08-06-jakarta.txt\n",
      "dec-21_karachi.txt ----> 12-21-karachi.txt\n",
      "jan-01_tokyo.txt ----> 01-01-tokyo.txt\n"
     ]
    }
   ],
   "source": [
    "file_list = [\n",
    "    'oct-08_singapore.txt', 'jul-10_cairo.txt', 'may-15_dhaka.txt',\n",
    "    'may-13_cairo.txt', 'oct-21_cairo.txt', 'jan-10_singapore.txt',\n",
    "    'jun-20_tokyo.txt', 'aug-06_jakarta.txt', 'dec-21_karachi.txt',\n",
    "    'jan-01_tokyo.txt'\n",
    "]\n",
    "\n",
    "for old_filename in file_list:\n",
    "    new_filename = rename_my_file(old_filename)\n",
    "    print(f\"{old_filename} ----> {new_filename}\")\n"
   ]
  },
  {
   "cell_type": "markdown",
   "id": "089c9ddc",
   "metadata": {},
   "source": [
    "### TASK 4"
   ]
  },
  {
   "cell_type": "code",
   "execution_count": 16,
   "id": "fbee0a99",
   "metadata": {},
   "outputs": [],
   "source": [
    "txt_files = glob.glob(\"*.txt\")"
   ]
  },
  {
   "cell_type": "code",
   "execution_count": 19,
   "id": "595208e1",
   "metadata": {},
   "outputs": [],
   "source": [
    "for old_filename in txt_files:\n",
    "    new_filename = rename_my_file(old_filename)\n",
    "    os.rename(old_filename, new_filename)  \n",
    "\n",
    "    print(f\"{old_filename} ----> {new_filename}\")"
   ]
  },
  {
   "cell_type": "markdown",
   "id": "9f3791a2",
   "metadata": {},
   "source": [
    "### TASK 5"
   ]
  },
  {
   "cell_type": "code",
   "execution_count": null,
   "id": "7f9d812c",
   "metadata": {},
   "outputs": [],
   "source": [
    "os.mkdir('city')\n",
    "\n",
    "for city in ['Cairo', 'Dhaka', 'Jakarta', 'Karachi', 'Manila',\n",
    " 'Melbourne', 'Osaka', 'Shanghai', 'Singapore', 'Tokyo']:\n",
    "    path = os.path.join('city', person)\n",
    "    print(f'Creating {path}')\n",
    "    os.mkdir(path)"
   ]
  },
  {
   "cell_type": "code",
   "execution_count": null,
   "id": "9787cd27",
   "metadata": {},
   "outputs": [],
   "source": []
  },
  {
   "cell_type": "markdown",
   "id": "afda0480",
   "metadata": {},
   "source": [
    "### TASK 6"
   ]
  },
  {
   "cell_type": "code",
   "execution_count": null,
   "id": "1a7275fa",
   "metadata": {},
   "outputs": [],
   "source": []
  },
  {
   "cell_type": "markdown",
   "id": "2c1144d5",
   "metadata": {},
   "source": [
    "### TASK 7"
   ]
  },
  {
   "cell_type": "code",
   "execution_count": null,
   "id": "a49a8e7d",
   "metadata": {},
   "outputs": [],
   "source": []
  }
 ],
 "metadata": {
  "kernelspec": {
   "display_name": "Python 3 (ipykernel)",
   "language": "python",
   "name": "python3"
  },
  "language_info": {
   "codemirror_mode": {
    "name": "ipython",
    "version": 3
   },
   "file_extension": ".py",
   "mimetype": "text/x-python",
   "name": "python",
   "nbconvert_exporter": "python",
   "pygments_lexer": "ipython3",
   "version": "3.12.9"
  },
  "toc": {
   "base_numbering": 1,
   "nav_menu": {},
   "number_sections": true,
   "sideBar": true,
   "skip_h1_title": false,
   "title_cell": "Table of Contents",
   "title_sidebar": "Contents",
   "toc_cell": false,
   "toc_position": {},
   "toc_section_display": true,
   "toc_window_display": false
  },
  "vscode": {
   "interpreter": {
    "hash": "31f2aee4e71d21fbe5cf8b01ff0e069b9275f58929596ceb00d14d90e3e16cd6"
   }
  }
 },
 "nbformat": 4,
 "nbformat_minor": 5
}
