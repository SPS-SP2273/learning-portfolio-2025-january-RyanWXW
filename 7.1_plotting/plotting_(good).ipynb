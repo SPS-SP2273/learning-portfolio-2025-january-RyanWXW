{
 "cells": [
  {
   "cell_type": "markdown",
   "id": "123456",
   "metadata": {},
   "source": [
    "<div style=\"text-align:left;font-size:2em\"><span style=\"font-weight:bolder;font-size:1.25em\">SP2273 | Learning Portfolio</span><br><br><span style=\"font-weight:bold;color:darkred\">Plotting (Good)</span></div>"
   ]
  },
  {
   "cell_type": "markdown",
   "id": "678a464d",
   "metadata": {},
   "source": [
    "# What to expect in this chapter"
   ]
  },
  {
   "cell_type": "markdown",
   "id": "182675ca",
   "metadata": {},
   "source": [
    "# 1 Some nomenclature"
   ]
  },
  {
   "cell_type": "code",
   "execution_count": null,
   "id": "8c972a96",
   "metadata": {},
   "outputs": [],
   "source": [
    "from matplotlib import pyplot as plt\n",
    "import numpy as np"
   ]
  },
  {
   "cell_type": "code",
   "execution_count": null,
   "id": "19ec2fef",
   "metadata": {},
   "outputs": [],
   "source": []
  },
  {
   "cell_type": "code",
   "execution_count": null,
   "id": "c945d936",
   "metadata": {},
   "outputs": [],
   "source": [
    "x = np.linspace(-np.pi, np.pi, num=100)\n",
    "cos_x = np.cos(x)\n",
    "sin_x = np.sin(x)"
   ]
  },
  {
   "cell_type": "code",
   "execution_count": null,
   "id": "1a84a821",
   "metadata": {},
   "outputs": [],
   "source": [
    "plt.plot(x, cos_x, label='cos x')\n",
    "plt.plot(x, sin_x, label='sin x')\n",
    "plt.legend()"
   ]
  },
  {
   "cell_type": "code",
   "execution_count": null,
   "id": "4b17ed1a",
   "metadata": {},
   "outputs": [],
   "source": [
    "fig, ax = plt.subplots(nrows=1, ncols=1)\n",
    "ax.plot(x, cos_x, label='cos x')\n",
    "ax.plot(x, sin_x, label='sin x')\n",
    "ax.legend()"
   ]
  },
  {
   "cell_type": "code",
   "execution_count": null,
   "id": "128ebee4",
   "metadata": {},
   "outputs": [],
   "source": [
    "fig, ax = plt.subplots(nrows=1, ncols=1, figsize(10,3))\n",
    "ax[0].plot(x, cos_x, label='cos x', c='r',ls='--')\n",
    "#ax[0].legend()\n",
    "#ax.grid(alpha=25)\n",
    "\n",
    "ax[1].plot(x, sin_x, label='sin x')\n",
    "#ax[1].legend()\n",
    "#ax.grid(alpha=25)\n",
    "\n",
    "\n",
    "ax[0].sex_xlabel('hahaha')\n",
    "\n",
    "for axis in ax:\n",
    "    axis.legend()\n",
    "    axis.grid()"
   ]
  },
  {
   "cell_type": "markdown",
   "id": "cd751793",
   "metadata": {},
   "source": [
    "ax"
   ]
  },
  {
   "cell_type": "code",
   "execution_count": null,
   "id": "70cf315b",
   "metadata": {},
   "outputs": [],
   "source": []
  },
  {
   "cell_type": "code",
   "execution_count": null,
   "id": "86f6d71a",
   "metadata": {},
   "outputs": [],
   "source": []
  },
  {
   "cell_type": "code",
   "execution_count": null,
   "id": "5fe8449f",
   "metadata": {},
   "outputs": [],
   "source": []
  },
  {
   "cell_type": "markdown",
   "id": "6a405d97",
   "metadata": {},
   "source": [
    "# 2 Comparing the two ‘dialects’"
   ]
  },
  {
   "cell_type": "markdown",
   "id": "17b3b653",
   "metadata": {},
   "source": [
    "### pyplot Interface"
   ]
  },
  {
   "cell_type": "code",
   "execution_count": null,
   "id": "f827d04f",
   "metadata": {},
   "outputs": [],
   "source": [
    "\n",
    "# Your code here\n"
   ]
  },
  {
   "cell_type": "markdown",
   "id": "d31446d0",
   "metadata": {},
   "source": [
    "### OO Interface"
   ]
  },
  {
   "cell_type": "code",
   "execution_count": null,
   "id": "60d971d9",
   "metadata": {},
   "outputs": [],
   "source": [
    "\n",
    "# Your code here\n"
   ]
  },
  {
   "cell_type": "markdown",
   "id": "15dd764e",
   "metadata": {},
   "source": [
    "# 3 What is OO ax, really?"
   ]
  },
  {
   "cell_type": "code",
   "execution_count": null,
   "id": "3d78f160",
   "metadata": {},
   "outputs": [],
   "source": [
    "fig, ax = plt.subplots(nrows=2, ncols=1)\n",
    "\n",
    "ax[0].plot(x, cos_x, label='cos x')\n",
    "ax[1].plot(x, sin_x, label='sin x')\n",
    "\n",
    "ax[0].legend()\n",
    "ax[1].legend()"
   ]
  },
  {
   "cell_type": "code",
   "execution_count": null,
   "id": "265944f8",
   "metadata": {},
   "outputs": [],
   "source": [
    "fig, ax = plt.subplots(ncols=1, nrows=2)"
   ]
  },
  {
   "cell_type": "code",
   "execution_count": null,
   "id": "cb3d4853",
   "metadata": {},
   "outputs": [],
   "source": [
    "type(ax)"
   ]
  },
  {
   "cell_type": "code",
   "execution_count": null,
   "id": "f027f118",
   "metadata": {},
   "outputs": [],
   "source": [
    "ax.shape"
   ]
  },
  {
   "cell_type": "code",
   "execution_count": null,
   "id": "67b310af",
   "metadata": {},
   "outputs": [],
   "source": [
    "type(ax[0])"
   ]
  },
  {
   "cell_type": "markdown",
   "id": "481654cd",
   "metadata": {},
   "source": [
    "# 4 A complete OO example"
   ]
  },
  {
   "cell_type": "code",
   "execution_count": null,
   "id": "35cdca4c",
   "metadata": {},
   "outputs": [],
   "source": []
  },
  {
   "cell_type": "code",
   "execution_count": null,
   "id": "bd6ab452",
   "metadata": {},
   "outputs": [],
   "source": [
    "fig, ax = plt.subplots(nrows=2, ncols=1,\n",
    "                       figsize=(5, 5),\n",
    "                       sharex=True)\n",
    "\n",
    "\n",
    "ax[0].plot(x, cos_x, label=r'$\\cos(x)$')\n",
    "ax[0].fill_between(x, 0, cos_x, alpha=.25)\n",
    "ax[1].plot(x, sin_x, label=r'$\\sin(x)$')\n",
    "ax[1].fill_between(x, 0, sin_x, alpha=.25)\n",
    "\n",
    "for a in ax:\n",
    "    a.legend()\n",
    "    a.grid(alpha=.25)\n",
    "    a.set_ylabel('$y$', rotation=0)\n",
    "\n",
    "\n",
    "ax[1].set_xlabel('$x$')\n",
    "\n",
    "fig.suptitle(r'$\\sin(x)$ and $\\cos(x)$')\n",
    "\n",
    "fig.tight_layout()"
   ]
  },
  {
   "cell_type": "code",
   "execution_count": null,
   "id": "461fb03b",
   "metadata": {},
   "outputs": [],
   "source": []
  },
  {
   "cell_type": "markdown",
   "id": "a1bd05f3",
   "metadata": {},
   "source": [
    "# 5 Multiple rows and columns"
   ]
  },
  {
   "cell_type": "code",
   "execution_count": null,
   "id": "43329188",
   "metadata": {},
   "outputs": [],
   "source": [
    "fig, ax = plt.subplots(nrows=2, ncols=2,\n",
    "                       figsize=(5, 5),\n",
    "                       sharex='col', sharey='col')\n",
    "\n",
    "# Some variables to access the axes and improve readabilty\n",
    "top_left, top_right, bottom_left, bottom_right = ax.flatten()\n",
    "\n",
    "top_left.set_title('Top Left')\n",
    "top_right.set_title('Top Right')\n",
    "bottom_left.set_title('Bottom Left')\n",
    "bottom_right.set_title('Bottom Right')\n",
    "\n",
    "top_left.hlines(y=1, xmin=0, xmax=4)\n",
    "top_right.hlines(y=2, xmin=0, xmax=5)\n",
    "bottom_left.hlines(y=3, xmin=0, xmax=4)\n",
    "bottom_right.hlines(y=4, xmin=0, xmax=5)\n",
    "\n",
    "for a in ax.flatten():\n",
    "    a.grid(alpha=.25)\n",
    "\n",
    "plt.tight_layout()"
   ]
  },
  {
   "cell_type": "code",
   "execution_count": null,
   "id": "c76de4b9",
   "metadata": {},
   "outputs": [],
   "source": []
  },
  {
   "cell_type": "markdown",
   "id": "ebffbb8f",
   "metadata": {},
   "source": [
    "### Using ax"
   ]
  },
  {
   "cell_type": "code",
   "execution_count": null,
   "id": "14ce89c0",
   "metadata": {},
   "outputs": [],
   "source": [
    "fig, ax = plt.subplots(nrows=2, ncols=2,\n",
    "                       figsize=(5, 5),\n",
    "                       sharex='col', sharey='row')"
   ]
  },
  {
   "cell_type": "code",
   "execution_count": null,
   "id": "828378a7",
   "metadata": {},
   "outputs": [],
   "source": [
    "ax.shape"
   ]
  },
  {
   "cell_type": "code",
   "execution_count": null,
   "id": "67778b73",
   "metadata": {},
   "outputs": [],
   "source": [
    "ax[0, 0].set_title('Top Left')\n",
    "ax[0, 1].set_title('Top Right')\n",
    "ax[1, 0].set_title('Bottom Left')\n",
    "ax[1, 1].set_title('Bottom Right')"
   ]
  },
  {
   "cell_type": "code",
   "execution_count": null,
   "id": "fc80730b",
   "metadata": {},
   "outputs": [],
   "source": [
    "top_left=ax[0, 0]\n",
    "top_right=ax[0, 1]\n",
    "bottom_left=ax[1, 0]\n",
    "bottom_right=ax[1, 1]"
   ]
  },
  {
   "cell_type": "code",
   "execution_count": null,
   "id": "c7aace6d",
   "metadata": {},
   "outputs": [],
   "source": [
    "top_left, top_right, bottom_left, bottom_right = ax.flatten()"
   ]
  },
  {
   "cell_type": "code",
   "execution_count": null,
   "id": "c534490c",
   "metadata": {},
   "outputs": [],
   "source": [
    "top_left.hlines(y=1, xmin=0, xmax=5)\n",
    "top_right.hlines(y=2, xmin=0, xmax=5)\n",
    "bottom_left.hlines(y=3, xmin=0, xmax=5)\n",
    "bottom_right.hlines(y=4, xmin=0, xmax=5)"
   ]
  },
  {
   "cell_type": "code",
   "execution_count": null,
   "id": "9fbca65c",
   "metadata": {},
   "outputs": [],
   "source": []
  },
  {
   "cell_type": "markdown",
   "id": "26e1b99f",
   "metadata": {},
   "source": [
    "## 5.1 Sharing axes"
   ]
  },
  {
   "cell_type": "code",
   "execution_count": null,
   "id": "7f15ca52",
   "metadata": {},
   "outputs": [],
   "source": [
    "fig, ax = plt.subplots(\n",
    "    nrows=2, ncols=2,\n",
    "    figsize=(5, 5)\n",
    ")"
   ]
  },
  {
   "cell_type": "code",
   "execution_count": null,
   "id": "04de9aa7",
   "metadata": {},
   "outputs": [],
   "source": [
    "fig, ax = plt.subplots(\n",
    "    nrows=2, ncols=2,\n",
    "    figsize=(5, 5),\n",
    "    sharex=True, sharey='row'\n",
    ")"
   ]
  },
  {
   "cell_type": "code",
   "execution_count": null,
   "id": "e0b52be2",
   "metadata": {},
   "outputs": [],
   "source": [
    "fig, ax = plt.subplots(\n",
    "    nrows=2, ncols=2,\n",
    "    figsize=(5, 5),\n",
    "    sharex='col', sharey='row'\n",
    ")"
   ]
  },
  {
   "cell_type": "code",
   "execution_count": null,
   "id": "938ec793",
   "metadata": {},
   "outputs": [],
   "source": []
  },
  {
   "cell_type": "markdown",
   "id": "baf27207",
   "metadata": {},
   "source": [
    "## 5.2 Accessing all axes"
   ]
  },
  {
   "cell_type": "code",
   "execution_count": null,
   "id": "8fff8e67",
   "metadata": {},
   "outputs": [],
   "source": [
    "top_left.grid(alpha=.25)\n",
    "top_right.grid(alpha=.25)\n",
    "bottom_left.grid(alpha=.25)\n",
    "bottom_right.grid(alpha=.25)"
   ]
  },
  {
   "cell_type": "code",
   "execution_count": null,
   "id": "8a3c8311",
   "metadata": {},
   "outputs": [],
   "source": [
    "for a in ax.flatten():\n",
    "    a.grid(alpha=.25)"
   ]
  },
  {
   "cell_type": "markdown",
   "id": "858df741",
   "metadata": {},
   "source": [
    "# 6 Other useful plots"
   ]
  },
  {
   "cell_type": "markdown",
   "id": "2ef23bef",
   "metadata": {},
   "source": [
    "## 6.1 Histograms"
   ]
  },
  {
   "cell_type": "markdown",
   "id": "3108e203",
   "metadata": {},
   "source": [
    "### Data"
   ]
  },
  {
   "cell_type": "code",
   "execution_count": null,
   "id": "be485396",
   "metadata": {},
   "outputs": [],
   "source": [
    "\n",
    "def get_plot_data():\n",
    "    data = {}\n",
    "    filename = 'sg-gov-graduate-employment-survey_basic_monthly_mean_all.csv'\n",
    "    data['All'] = np.loadtxt(filename, skiprows=1)\n",
    "\n",
    "    filename = 'sg-gov-graduate-employment-survey_basic_monthly_mean_nus.csv'\n",
    "    data['NUS'] = np.loadtxt(filename, skiprows=1)\n",
    "\n",
    "    return data"
   ]
  },
  {
   "cell_type": "markdown",
   "id": "1c8c59a0",
   "metadata": {},
   "source": [
    "### A quick helper function"
   ]
  },
  {
   "cell_type": "code",
   "execution_count": null,
   "id": "03153be7",
   "metadata": {},
   "outputs": [],
   "source": [
    "\n",
    "# Your code here\n"
   ]
  },
  {
   "cell_type": "markdown",
   "id": "ca681c4b",
   "metadata": {},
   "source": [
    "### The histogram"
   ]
  },
  {
   "cell_type": "code",
   "execution_count": null,
   "id": "4ed0772b",
   "metadata": {},
   "outputs": [],
   "source": [
    "\n",
    "plt.style.use('bmh')\n",
    "data = get_plot_data()\n",
    "\n",
    "# bins specifies how many bins to split the data\n",
    "plt.hist([data['All'], data['NUS']], bins=50, label=['All', 'NUS'])\n",
    "plt.xlabel('Mean of Basic Montly Earning (S$)')\n",
    "plt.ylabel('Number of Students')\n",
    "plt.legend()"
   ]
  },
  {
   "cell_type": "markdown",
   "id": "7fe519e3",
   "metadata": {},
   "source": [
    "## 6.2 Scatter plots"
   ]
  },
  {
   "cell_type": "code",
   "execution_count": null,
   "id": "5a1492fc",
   "metadata": {},
   "outputs": [],
   "source": [
    "plt.style.use(\"seaborn-v0_8-darkgrid\")\n",
    "\n",
    "data = get_plot_data()\n",
    "\n",
    "for label, numbers in data.items():\n",
    "    x = range(len(numbers))\n",
    "    y = numbers\n",
    "    plt.scatter(x, y, label=label, alpha=.5)\n",
    "\n",
    "plt.xlabel('Position in the list')\n",
    "plt.ylabel('Mean of Basic Montly Eraning (S$)')\n",
    "plt.legend()"
   ]
  },
  {
   "cell_type": "markdown",
   "id": "ed08ce29",
   "metadata": {},
   "source": [
    "## 6.3 Bar charts"
   ]
  },
  {
   "cell_type": "code",
   "execution_count": null,
   "id": "14b7215c",
   "metadata": {},
   "outputs": [],
   "source": [
    "student_numbers = {'Life Sciences': 14,\n",
    "                   'Physics': 12,\n",
    "                   'Chemistry': 8,\n",
    "                   'Comp. Biology': 1}\n",
    "majors = list(student_numbers.keys())\n",
    "numbers = list(student_numbers.values())\n",
    "\n",
    "plt.style.use('ggplot')\n",
    "plt.bar(majors, numbers)\n",
    "plt.xlabel('Majors')\n",
    "plt.ylabel('Number of Students')"
   ]
  },
  {
   "cell_type": "markdown",
   "id": "a4ea5d35",
   "metadata": {},
   "source": [
    "## 6.4 Pie charts"
   ]
  },
  {
   "cell_type": "code",
   "execution_count": null,
   "id": "d6a0e7ca",
   "metadata": {},
   "outputs": [],
   "source": [
    "student_numbers = {'Life Sciences': 14,\n",
    "                   'Physics': 12,\n",
    "                   'Chemistry': 8,\n",
    "                   'Comp. Biology': 1}\n",
    "majors = list(student_numbers.keys())\n",
    "numbers = list(student_numbers.values())\n",
    "\n",
    "plt.style.use('fivethirtyeight')\n",
    "plt.pie(numbers, \n",
    "        labels=majors,\n",
    "        autopct='%1.1f%%',   # How to format the percentages\n",
    "        startangle=-90                \n",
    "        )\n",
    "plt.title('Percentage of each major')"
   ]
  }
 ],
 "metadata": {
  "kernelspec": {
   "display_name": "Python 3 (ipykernel)",
   "language": "python",
   "name": "python3"
  },
  "language_info": {
   "codemirror_mode": {
    "name": "ipython",
    "version": 3
   },
   "file_extension": ".py",
   "mimetype": "text/x-python",
   "name": "python",
   "nbconvert_exporter": "python",
   "pygments_lexer": "ipython3",
   "version": "3.9.12"
  },
  "toc": {
   "base_numbering": 1,
   "nav_menu": {},
   "number_sections": true,
   "sideBar": true,
   "skip_h1_title": false,
   "title_cell": "Table of Contents",
   "title_sidebar": "Contents",
   "toc_cell": false,
   "toc_position": {},
   "toc_section_display": true,
   "toc_window_display": false
  },
  "vscode": {
   "interpreter": {
    "hash": "31f2aee4e71d21fbe5cf8b01ff0e069b9275f58929596ceb00d14d90e3e16cd6"
   }
  }
 },
 "nbformat": 4,
 "nbformat_minor": 5
}
