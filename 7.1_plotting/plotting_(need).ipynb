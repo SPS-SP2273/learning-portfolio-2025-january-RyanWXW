{
 "cells": [
  {
   "cell_type": "markdown",
   "id": "123456",
   "metadata": {},
   "source": [
    "<div style=\"text-align:left;font-size:2em\"><span style=\"font-weight:bolder;font-size:1.25em\">SP2273 | Learning Portfolio</span><br><br><span style=\"font-weight:bold;color:darkred\">Plotting (Need)</span></div>"
   ]
  },
  {
   "cell_type": "markdown",
   "id": "361ffde6",
   "metadata": {},
   "source": [
    "# What to expect in this chapter"
   ]
  },
  {
   "cell_type": "markdown",
   "id": "d1b854bd",
   "metadata": {},
   "source": [
    "# 1 A simple plot"
   ]
  },
  {
   "cell_type": "markdown",
   "id": "c7d9d7ab",
   "metadata": {},
   "source": [
    "## 1.1 Let’s look at some code."
   ]
  },
  {
   "cell_type": "markdown",
   "id": "fc0861b0",
   "metadata": {},
   "source": [
    "### Things to note"
   ]
  },
  {
   "cell_type": "code",
   "execution_count": null,
   "id": "f48a7f01",
   "metadata": {},
   "outputs": [],
   "source": [
    "\n",
    "# Your code here\n"
   ]
  },
  {
   "cell_type": "markdown",
   "id": "b8c036d3",
   "metadata": {},
   "source": [
    "## 1.2 Adding another plot"
   ]
  },
  {
   "cell_type": "markdown",
   "id": "ef3c3e88",
   "metadata": {},
   "source": [
    "## 1.3 Yet another plot but with error bars"
   ]
  },
  {
   "cell_type": "markdown",
   "id": "7a9fb411",
   "metadata": {},
   "source": [
    "# 2 Better with NumPy"
   ]
  },
  {
   "cell_type": "markdown",
   "id": "0842766c",
   "metadata": {},
   "source": [
    "## 2.1 Adding mathematical functions"
   ]
  },
  {
   "cell_type": "markdown",
   "id": "ba4ed4ee",
   "metadata": {},
   "source": [
    "## We need another axis!"
   ]
  },
  {
   "cell_type": "markdown",
   "id": "1d825212",
   "metadata": {},
   "source": [
    "### Things to note"
   ]
  },
  {
   "cell_type": "code",
   "execution_count": null,
   "id": "4b06becf",
   "metadata": {},
   "outputs": [],
   "source": [
    "\n",
    "# Your code here\n"
   ]
  },
  {
   "cell_type": "markdown",
   "id": "af94c6f4",
   "metadata": {},
   "source": [
    "# 3 Saving to disc"
   ]
  },
  {
   "cell_type": "markdown",
   "id": "b1dc3f43",
   "metadata": {},
   "source": [
    "# 4 A real example: Global Warming"
   ]
  },
  {
   "cell_type": "markdown",
   "id": "f4456c2f",
   "metadata": {},
   "source": [
    "## 4.1 Plotting data from files"
   ]
  },
  {
   "cell_type": "markdown",
   "id": "dfb78d43",
   "metadata": {},
   "source": [
    "## 4.2 Styles"
   ]
  },
  {
   "cell_type": "markdown",
   "id": "918bdb13",
   "metadata": {},
   "source": [
    "### xkcd!"
   ]
  },
  {
   "cell_type": "code",
   "execution_count": null,
   "id": "db828833",
   "metadata": {},
   "outputs": [],
   "source": [
    "\n",
    "# Your code here\n"
   ]
  },
  {
   "cell_type": "markdown",
   "id": "3f1f4ff9",
   "metadata": {},
   "source": [
    "### Resetting styles"
   ]
  },
  {
   "cell_type": "code",
   "execution_count": null,
   "id": "065ed38b",
   "metadata": {},
   "outputs": [],
   "source": [
    "\n",
    "# Your code here\n"
   ]
  }
 ],
 "metadata": {
  "kernelspec": {
   "display_name": "Python 3 (ipykernel)",
   "language": "python",
   "name": "python3"
  },
  "language_info": {
   "codemirror_mode": {
    "name": "ipython",
    "version": 3
   },
   "file_extension": ".py",
   "mimetype": "text/x-python",
   "name": "python",
   "nbconvert_exporter": "python",
   "pygments_lexer": "ipython3",
   "version": "3.9.12"
  },
  "toc": {
   "base_numbering": 1,
   "nav_menu": {},
   "number_sections": true,
   "sideBar": true,
   "skip_h1_title": false,
   "title_cell": "Table of Contents",
   "title_sidebar": "Contents",
   "toc_cell": false,
   "toc_position": {},
   "toc_section_display": true,
   "toc_window_display": false
  },
  "vscode": {
   "interpreter": {
    "hash": "31f2aee4e71d21fbe5cf8b01ff0e069b9275f58929596ceb00d14d90e3e16cd6"
   }
  }
 },
 "nbformat": 4,
 "nbformat_minor": 5
}
