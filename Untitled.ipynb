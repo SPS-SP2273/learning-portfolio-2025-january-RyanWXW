{
 "cells": [
  {
   "cell_type": "markdown",
   "id": "e260b560",
   "metadata": {},
   "source": [
    "print('hello world')"
   ]
  },
  {
   "cell_type": "markdown",
   "id": "7afcb230",
   "metadata": {},
   "source": [
    "print('hello world')**hahah**"
   ]
  },
  {
   "cell_type": "code",
   "execution_count": 18,
   "id": "aa43a44a",
   "metadata": {},
   "outputs": [
    {
     "name": "stdout",
     "output_type": "stream",
     "text": [
      "hello world\n",
      "hello world\n",
      "hello world\n"
     ]
    }
   ],
   "source": [
    "print('hello world')\n",
    "print('hello world')\n",
    "print('hello world')"
   ]
  },
  {
   "cell_type": "markdown",
   "id": "dc6b23b2",
   "metadata": {},
   "source": [
    "hahahha"
   ]
  },
  {
   "cell_type": "markdown",
   "id": "e4446957",
   "metadata": {},
   "source": []
  },
  {
   "cell_type": "markdown",
   "id": "bcde0332",
   "metadata": {},
   "source": [
    "# Top Heading\n",
    "\n",
    "## Second\n",
    "The **ships** hung *in the sky* in much the <sub>same</sub> way the bricks <sup>dont</sup>"
   ]
  },
  {
   "cell_type": "markdown",
   "id": "7c37473d",
   "metadata": {},
   "source": [
    " this is a link to [NUS](https://nusmods.com/timetable/sem-2)"
   ]
  },
  {
   "cell_type": "markdown",
   "id": "7e0b26de",
   "metadata": {},
   "source": [
    "![](logo.png)"
   ]
  },
  {
   "cell_type": "markdown",
   "id": "1eed36dd",
   "metadata": {},
   "source": [
    "|A|B|C|\n",
    "|--|--|--|\n",
    "|1|2|3|"
   ]
  },
  {
   "cell_type": "markdown",
   "id": "2d5c2318",
   "metadata": {},
   "source": []
  },
  {
   "cell_type": "markdown",
   "id": "6f203583",
   "metadata": {},
   "source": [
    " # 1. Lists"
   ]
  },
  {
   "cell_type": "markdown",
   "id": "b7ab7ff2",
   "metadata": {},
   "source": [
    "1. chi\n",
    "    1. po\n",
    "    1. cd\n",
    "2. of\n",
    "3. fk"
   ]
  },
  {
   "cell_type": "markdown",
   "id": "7266c4ab",
   "metadata": {},
   "source": [
    "$$\\int f(x) dx$$"
   ]
  },
  {
   "cell_type": "markdown",
   "id": "659af5d2",
   "metadata": {},
   "source": [
    "this is an inline math example $\\sqrt{b^2-4ac}$"
   ]
  },
  {
   "cell_type": "markdown",
   "id": "5e977946",
   "metadata": {},
   "source": [
    "this is an inline math example $$\\sqrt{b^2-4ac}$$"
   ]
  },
  {
   "cell_type": "code",
   "execution_count": null,
   "id": "ea5b7b72",
   "metadata": {},
   "outputs": [],
   "source": []
  },
  {
   "attachments": {
    "quad.png": {
     "image/png": "[encoded data removed]"
    }
   },
   "cell_type": "markdown",
   "id": "48411eeb",
   "metadata": {},
   "source": [
    "**EXERCISE 1** \n",
    "# Introduction \n",
    "\n",
    "![](quad.png)\n",
    "\n",
    "![quad.png](attachment:quad.png)\n",
    "\n",
    "*(Image from the [Wikipedia page on Quadratic equations](https://en.wikipedia.org/wiki/Quadratic_equation))*\n",
    "\n",
    "The general form of a quadratic equation is:\n",
    "\n",
    "$$\\sqrt{ax^2+bx+c=0}$$\n",
    "\n",
    "# Solutions \n",
    "\n",
    "Provided $a\\ne0$, we can use an elementary algebraic method called completing the square to show that a quadratic equation has the following solution:\n",
    "\n",
    " $$\\dfrac{x = -b ± \\sqrt{b^2-4ac}}{2a}$$\n",
    " \n",
    " # Discriminant \n",
    " \n",
    "The quantity △ = $b^2-4ac$ is called the discriminant of the equation and decides the nature of its solutions. The table below shows the various possibilities.\n",
    "\n",
    "|**Discriminant**|**Roots**|\n",
    "|--|--|\n",
    "|$\\triangle$ = $b^2-4ac$ = 0|A single solution of $-b/(2a)$|\n",
    "|$\\triangle$ = $b^2-4ac$$  \\gt 0$|Two distinct solutions|\n",
    "|$\\triangle$ = $b^2-4ac$$  \\lt 0$|No real solutions; both are complex.|\n",
    "\n"
   ]
  },
  {
   "cell_type": "markdown",
   "id": "1e28edaa",
   "metadata": {},
   "source": [
    "**EXERCISE 2**\n",
    "\n",
    "1. A Git repository is a storage database for projects which contains all of its metadata. It also tracks changes to files over time, as well as allows collaboration via the cloud\n",
    "\n",
    "2. Git keeps track of changes in the files in our repository.\n",
    "\n",
    "3. A commit displays any infomration changed on the repository at a specific point in time \n",
    "\n",
    "4. A push sends the changed information from the repository to the cloud, where collaboration can take place\n",
    "\n",
    "5. A pull send changes from the cloud into a local computer, ensuring that your local version is updated with the changes\n",
    "\n",
    "6. Github Desktop is a GUI which allows a more user friendly software to code without accessing terminal and command prompt. Github is the web-based version of this. "
   ]
  },
  {
   "cell_type": "markdown",
   "id": "8e97f7f8",
   "metadata": {},
   "source": [
    "**EXERCISE 3**\n",
    "\n",
    "$$\\mu = \\frac{1}{n} \\sum_{i=1}^{n} x_i$$\n",
    "\n",
    "$$\\sigma = \\sqrt{\\frac{1}{n} \\sum_{i=1}^{n} (x_i - \\mu)^2}$$\n",
    "\n",
    "$$r = \\frac{\\sum_{i=1}^{n} (x_i - \\mu_X)(y_i - \\mu_Y)}{\\sqrt{\\sum_{i=1}^{n} (x_i - \\mu_X)^2 \\sum_{i=1}^{n} (y_i - \\mu_Y)^2}}$$"
   ]
  },
  {
   "cell_type": "code",
   "execution_count": 25,
   "id": "5a7b96c4",
   "metadata": {},
   "outputs": [
    {
     "name": "stdout",
     "output_type": "stream",
     "text": [
      "zsh:1: command not found: dir\r\n"
     ]
    }
   ],
   "source": [
    "!dir"
   ]
  },
  {
   "cell_type": "code",
   "execution_count": 26,
   "id": "a38d1de8",
   "metadata": {},
   "outputs": [
    {
     "name": "stdout",
     "output_type": "stream",
     "text": [
      "15.4 ns ± 0.809 ns per loop (mean ± std. dev. of 7 runs, 100000000 loops each)\n"
     ]
    }
   ],
   "source": [
    "%timeit x=10"
   ]
  },
  {
   "cell_type": "code",
   "execution_count": 27,
   "id": "19c90be3",
   "metadata": {},
   "outputs": [
    {
     "name": "stdout",
     "output_type": "stream",
     "text": [
      "20.9 ns ± 0.458 ns per loop (mean ± std. dev. of 7 runs, 10000000 loops each)\n"
     ]
    }
   ],
   "source": [
    "%%timeit\n",
    "x=10\n",
    "y=x"
   ]
  },
  {
   "cell_type": "code",
   "execution_count": 28,
   "id": "df32d025",
   "metadata": {},
   "outputs": [
    {
     "data": {
      "application/json": {
       "cell": {
        "!": "OSMagics",
        "HTML": "Other",
        "SVG": "Other",
        "bash": "Other",
        "capture": "ExecutionMagics",
        "debug": "ExecutionMagics",
        "file": "Other",
        "html": "DisplayMagics",
        "javascript": "DisplayMagics",
        "js": "DisplayMagics",
        "latex": "DisplayMagics",
        "markdown": "DisplayMagics",
        "perl": "Other",
        "prun": "ExecutionMagics",
        "pypy": "Other",
        "python": "Other",
        "python2": "Other",
        "python3": "Other",
        "ruby": "Other",
        "script": "ScriptMagics",
        "sh": "Other",
        "svg": "DisplayMagics",
        "sx": "OSMagics",
        "system": "OSMagics",
        "time": "ExecutionMagics",
        "timeit": "ExecutionMagics",
        "writefile": "OSMagics"
       },
       "line": {
        "alias": "OSMagics",
        "alias_magic": "BasicMagics",
        "autoawait": "AsyncMagics",
        "autocall": "AutoMagics",
        "automagic": "AutoMagics",
        "autosave": "KernelMagics",
        "bookmark": "OSMagics",
        "cat": "Other",
        "cd": "OSMagics",
        "clear": "KernelMagics",
        "colors": "BasicMagics",
        "conda": "PackagingMagics",
        "config": "ConfigMagics",
        "connect_info": "KernelMagics",
        "cp": "Other",
        "debug": "ExecutionMagics",
        "dhist": "OSMagics",
        "dirs": "OSMagics",
        "doctest_mode": "BasicMagics",
        "ed": "Other",
        "edit": "KernelMagics",
        "env": "OSMagics",
        "gui": "BasicMagics",
        "hist": "Other",
        "history": "HistoryMagics",
        "killbgscripts": "ScriptMagics",
        "ldir": "Other",
        "less": "KernelMagics",
        "lf": "Other",
        "lk": "Other",
        "ll": "Other",
        "load": "CodeMagics",
        "load_ext": "ExtensionMagics",
        "loadpy": "CodeMagics",
        "logoff": "LoggingMagics",
        "logon": "LoggingMagics",
        "logstart": "LoggingMagics",
        "logstate": "LoggingMagics",
        "logstop": "LoggingMagics",
        "ls": "Other",
        "lsmagic": "BasicMagics",
        "lx": "Other",
        "macro": "ExecutionMagics",
        "magic": "BasicMagics",
        "man": "KernelMagics",
        "matplotlib": "PylabMagics",
        "mkdir": "Other",
        "more": "KernelMagics",
        "mv": "Other",
        "notebook": "BasicMagics",
        "page": "BasicMagics",
        "pastebin": "CodeMagics",
        "pdb": "ExecutionMagics",
        "pdef": "NamespaceMagics",
        "pdoc": "NamespaceMagics",
        "pfile": "NamespaceMagics",
        "pinfo": "NamespaceMagics",
        "pinfo2": "NamespaceMagics",
        "pip": "PackagingMagics",
        "popd": "OSMagics",
        "pprint": "BasicMagics",
        "precision": "BasicMagics",
        "prun": "ExecutionMagics",
        "psearch": "NamespaceMagics",
        "psource": "NamespaceMagics",
        "pushd": "OSMagics",
        "pwd": "OSMagics",
        "pycat": "OSMagics",
        "pylab": "PylabMagics",
        "qtconsole": "KernelMagics",
        "quickref": "BasicMagics",
        "recall": "HistoryMagics",
        "rehashx": "OSMagics",
        "reload_ext": "ExtensionMagics",
        "rep": "Other",
        "rerun": "HistoryMagics",
        "reset": "NamespaceMagics",
        "reset_selective": "NamespaceMagics",
        "rm": "Other",
        "rmdir": "Other",
        "run": "ExecutionMagics",
        "save": "CodeMagics",
        "sc": "OSMagics",
        "set_env": "OSMagics",
        "store": "StoreMagics",
        "sx": "OSMagics",
        "system": "OSMagics",
        "tb": "ExecutionMagics",
        "time": "ExecutionMagics",
        "timeit": "ExecutionMagics",
        "unalias": "OSMagics",
        "unload_ext": "ExtensionMagics",
        "who": "NamespaceMagics",
        "who_ls": "NamespaceMagics",
        "whos": "NamespaceMagics",
        "xdel": "NamespaceMagics",
        "xmode": "BasicMagics"
       }
      },
      "text/plain": [
       "Available line magics:\n",
       "%alias  %alias_magic  %autoawait  %autocall  %automagic  %autosave  %bookmark  %cat  %cd  %clear  %colors  %conda  %config  %connect_info  %cp  %debug  %dhist  %dirs  %doctest_mode  %ed  %edit  %env  %gui  %hist  %history  %killbgscripts  %ldir  %less  %lf  %lk  %ll  %load  %load_ext  %loadpy  %logoff  %logon  %logstart  %logstate  %logstop  %ls  %lsmagic  %lx  %macro  %magic  %man  %matplotlib  %mkdir  %more  %mv  %notebook  %page  %pastebin  %pdb  %pdef  %pdoc  %pfile  %pinfo  %pinfo2  %pip  %popd  %pprint  %precision  %prun  %psearch  %psource  %pushd  %pwd  %pycat  %pylab  %qtconsole  %quickref  %recall  %rehashx  %reload_ext  %rep  %rerun  %reset  %reset_selective  %rm  %rmdir  %run  %save  %sc  %set_env  %store  %sx  %system  %tb  %time  %timeit  %unalias  %unload_ext  %who  %who_ls  %whos  %xdel  %xmode\n",
       "\n",
       "Available cell magics:\n",
       "%%!  %%HTML  %%SVG  %%bash  %%capture  %%debug  %%file  %%html  %%javascript  %%js  %%latex  %%markdown  %%perl  %%prun  %%pypy  %%python  %%python2  %%python3  %%ruby  %%script  %%sh  %%svg  %%sx  %%system  %%time  %%timeit  %%writefile\n",
       "\n",
       "Automagic is ON, % prefix IS NOT needed for line magics."
      ]
     },
     "execution_count": 28,
     "metadata": {},
     "output_type": "execute_result"
    }
   ],
   "source": [
    "%lsmagic"
   ]
  },
  {
   "cell_type": "markdown",
   "id": "b3cd6125",
   "metadata": {},
   "source": [
    "anything i need to do for kernel ?"
   ]
  },
  {
   "cell_type": "markdown",
   "id": "3f8adf30",
   "metadata": {},
   "source": [
    "how to run jupyter notebook via learning portoflio? cant see fucntion to copy address as text"
   ]
  }
 ],
 "metadata": {
  "kernelspec": {
   "display_name": "Python 3 (ipykernel)",
   "language": "python",
   "name": "python3"
  },
  "language_info": {
   "codemirror_mode": {
    "name": "ipython",
    "version": 3
   },
   "file_extension": ".py",
   "mimetype": "text/x-python",
   "name": "python",
   "nbconvert_exporter": "python",
   "pygments_lexer": "ipython3",
   "version": "3.9.12"
  }
 },
 "nbformat": 4,
 "nbformat_minor": 5
}
