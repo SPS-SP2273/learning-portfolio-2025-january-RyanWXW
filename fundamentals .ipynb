{
 "cells": [
  {
   "cell_type": "code",
   "execution_count": 7,
   "id": "d8ded604",
   "metadata": {},
   "outputs": [
    {
     "name": "stdout",
     "output_type": "stream",
     "text": [
      "Hello Worldxxxhahah\n"
     ]
    }
   ],
   "source": [
    "print('Hello World', \"hahah\", sep='xxx')"
   ]
  },
  {
   "cell_type": "code",
   "execution_count": 8,
   "id": "2ff4256e",
   "metadata": {},
   "outputs": [
    {
     "name": "stdout",
     "output_type": "stream",
     "text": [
      "newwwnewwwnewwwnewwwnewwwnewwwnewwwnewwwnewwwnewww\n"
     ]
    }
   ],
   "source": [
    "print(\"newww\"*10)"
   ]
  },
  {
   "cell_type": "code",
   "execution_count": 22,
   "id": "dd40bc18",
   "metadata": {},
   "outputs": [
    {
     "name": "stdout",
     "output_type": "stream",
     "text": [
      "A\n",
      "B\n",
      "C\n",
      "D\n",
      "python goes line by line\n"
     ]
    }
   ],
   "source": [
    "print(\"A\")\n",
    "print(\"B\")\n",
    "print(\"C\")\n",
    "print(\"D\")\n",
    "\n",
    "print('python goes line by line') # this is a comment"
   ]
  },
  {
   "cell_type": "code",
   "execution_count": 25,
   "id": "ba29a7b9",
   "metadata": {},
   "outputs": [],
   "source": [
    "x=10"
   ]
  },
  {
   "cell_type": "code",
   "execution_count": 27,
   "id": "221055c0",
   "metadata": {},
   "outputs": [
    {
     "data": {
      "text/plain": [
       "False"
      ]
     },
     "execution_count": 27,
     "metadata": {},
     "output_type": "execute_result"
    }
   ],
   "source": [
    "x==100"
   ]
  },
  {
   "cell_type": "code",
   "execution_count": 38,
   "id": "31939e19",
   "metadata": {},
   "outputs": [
    {
     "name": "stdout",
     "output_type": "stream",
     "text": [
      "equal to madness\n"
     ]
    }
   ],
   "source": [
    "x=0\n",
    "if x==10:\n",
    "    print('equal to 10') #python uses indentation to specify blocks of code \n",
    "\n",
    "print('equal to madness')\n"
   ]
  },
  {
   "cell_type": "code",
   "execution_count": null,
   "id": "1f259d0f",
   "metadata": {},
   "outputs": [],
   "source": [
    "age=10\n",
    "print(\"age\")"
   ]
  },
  {
   "cell_type": "code",
   "execution_count": 39,
   "id": "24b5fdbe",
   "metadata": {},
   "outputs": [
    {
     "data": {
      "text/plain": [
       "9"
      ]
     },
     "execution_count": 39,
     "metadata": {},
     "output_type": "execute_result"
    }
   ],
   "source": [
    "(1+2)*3"
   ]
  },
  {
   "cell_type": "code",
   "execution_count": 43,
   "id": "5873f75b",
   "metadata": {},
   "outputs": [
    {
     "ename": "SyntaxError",
     "evalue": "unexpected character after line continuation character (420891313.py, line 1)",
     "output_type": "error",
     "traceback": [
      "\u001b[0;36m  File \u001b[0;32m\"/var/folders/3l/62hhb00902x92gh3vvhlf6pr0000gn/T/ipykernel_11740/420891313.py\"\u001b[0;36m, line \u001b[0;32m1\u001b[0m\n\u001b[0;31m    \\sqrt(4)\u001b[0m\n\u001b[0m     ^\u001b[0m\n\u001b[0;31mSyntaxError\u001b[0m\u001b[0;31m:\u001b[0m unexpected character after line continuation character\n"
     ]
    }
   ],
   "source": [
    "sqrt(4) # base python cant perform complicated math and must import a function"
   ]
  },
  {
   "cell_type": "code",
   "execution_count": 58,
   "id": "9e0511a6",
   "metadata": {},
   "outputs": [],
   "source": [
    "import math #importing maths package \n",
    "import numpy \n",
    "\n",
    "# maths package and np package offers different services "
   ]
  },
  {
   "cell_type": "code",
   "execution_count": 59,
   "id": "1dc5d1db",
   "metadata": {},
   "outputs": [
    {
     "data": {
      "text/plain": [
       "2.0"
      ]
     },
     "execution_count": 59,
     "metadata": {},
     "output_type": "execute_result"
    }
   ],
   "source": [
    "math.sqrt(4)"
   ]
  },
  {
   "cell_type": "code",
   "execution_count": 60,
   "id": "b970391b",
   "metadata": {},
   "outputs": [
    {
     "data": {
      "text/plain": [
       "np.float64(2.0)"
      ]
     },
     "execution_count": 60,
     "metadata": {},
     "output_type": "execute_result"
    }
   ],
   "source": [
    "numpy.sqrt(4)"
   ]
  },
  {
   "cell_type": "code",
   "execution_count": 61,
   "id": "e386e731",
   "metadata": {},
   "outputs": [],
   "source": [
    "import numpy as np"
   ]
  },
  {
   "cell_type": "code",
   "execution_count": 71,
   "id": "234d0d5a",
   "metadata": {},
   "outputs": [],
   "source": [
    "x32=numpy.sqrt(100,dtype=np.float32)\n",
    "x64=numpy.sqrt(100,dtype=np.float64)"
   ]
  },
  {
   "cell_type": "code",
   "execution_count": 69,
   "id": "85a8b7cb",
   "metadata": {},
   "outputs": [
    {
     "data": {
      "text/plain": [
       "numpy.float32"
      ]
     },
     "execution_count": 69,
     "metadata": {},
     "output_type": "execute_result"
    }
   ],
   "source": [
    "type(x32)"
   ]
  },
  {
   "cell_type": "code",
   "execution_count": 72,
   "id": "44573b10",
   "metadata": {},
   "outputs": [
    {
     "data": {
      "text/plain": [
       "numpy.float64"
      ]
     },
     "execution_count": 72,
     "metadata": {},
     "output_type": "execute_result"
    }
   ],
   "source": [
    "type(x64)"
   ]
  },
  {
   "cell_type": "code",
   "execution_count": 73,
   "id": "bb46eb59",
   "metadata": {},
   "outputs": [],
   "source": [
    "import numpy as np"
   ]
  },
  {
   "cell_type": "code",
   "execution_count": 74,
   "id": "5ac53a8a",
   "metadata": {},
   "outputs": [
    {
     "data": {
      "text/plain": [
       "str"
      ]
     },
     "execution_count": 74,
     "metadata": {},
     "output_type": "execute_result"
    }
   ],
   "source": [
    "type('age')"
   ]
  },
  {
   "cell_type": "code",
   "execution_count": 75,
   "id": "afa7871b",
   "metadata": {},
   "outputs": [
    {
     "data": {
      "text/plain": [
       "str"
      ]
     },
     "execution_count": 75,
     "metadata": {},
     "output_type": "execute_result"
    }
   ],
   "source": [
    "type('1')"
   ]
  },
  {
   "cell_type": "code",
   "execution_count": 78,
   "id": "77801f9c",
   "metadata": {},
   "outputs": [
    {
     "name": "stdout",
     "output_type": "stream",
     "text": [
      "not 10\n"
     ]
    }
   ],
   "source": [
    "x=1\n",
    "if x==10:\n",
    "    # true block\n",
    "    print('10'*3)\n",
    "else:\n",
    "    # false block\n",
    "    print('not 10')\n"
   ]
  },
  {
   "cell_type": "code",
   "execution_count": 79,
   "id": "d116c9bd",
   "metadata": {},
   "outputs": [],
   "source": [
    "x=10"
   ]
  },
  {
   "cell_type": "code",
   "execution_count": 82,
   "id": "33959885",
   "metadata": {},
   "outputs": [
    {
     "data": {
      "text/plain": [
       "True"
      ]
     },
     "execution_count": 82,
     "metadata": {},
     "output_type": "execute_result"
    }
   ],
   "source": [
    "x > 5 "
   ]
  },
  {
   "cell_type": "code",
   "execution_count": 89,
   "id": "72e6dc14",
   "metadata": {},
   "outputs": [
    {
     "name": "stdout",
     "output_type": "stream",
     "text": [
      "pomme\n"
     ]
    }
   ],
   "source": [
    "fruits = ['apple', 'banana', 'pineapple', 'jackfruit']\n",
    "if 'apple' in fruits:\n",
    "    print('pomme')"
   ]
  },
  {
   "cell_type": "code",
   "execution_count": 86,
   "id": "4f805479",
   "metadata": {},
   "outputs": [
    {
     "data": {
      "text/plain": [
       "True"
      ]
     },
     "execution_count": 86,
     "metadata": {},
     "output_type": "execute_result"
    }
   ],
   "source": [
    "'apple' in ['apple', 'banana', 'pineapple', 'jackfruit']"
   ]
  },
  {
   "cell_type": "code",
   "execution_count": 90,
   "id": "a2304b24",
   "metadata": {},
   "outputs": [
    {
     "data": {
      "text/plain": [
       "False"
      ]
     },
     "execution_count": 90,
     "metadata": {},
     "output_type": "execute_result"
    }
   ],
   "source": [
    "a=0.1\n",
    "a3=0.3\n",
    "a*3==a3"
   ]
  },
  {
   "cell_type": "code",
   "execution_count": 91,
   "id": "200179ba",
   "metadata": {},
   "outputs": [
    {
     "data": {
      "text/plain": [
       "np.True_"
      ]
     },
     "execution_count": 91,
     "metadata": {},
     "output_type": "execute_result"
    }
   ],
   "source": [
    "np.isclose(a*3,a3)"
   ]
  },
  {
   "cell_type": "code",
   "execution_count": 105,
   "id": "bac5159a",
   "metadata": {},
   "outputs": [
    {
     "name": "stdout",
     "output_type": "stream",
     "text": [
      "my age is         10\n"
     ]
    }
   ],
   "source": [
    "age=10\n",
    "print (f'my age is {age:10d}')"
   ]
  },
  {
   "cell_type": "code",
   "execution_count": 95,
   "id": "2919e2a2",
   "metadata": {},
   "outputs": [
    {
     "name": "stdout",
     "output_type": "stream",
     "text": [
      "Bruce Wayne is Batman.\n"
     ]
    }
   ],
   "source": [
    "text = 'Bruce Wayne is Batman.'\n",
    "print(f'{text}')"
   ]
  },
  {
   "cell_type": "code",
   "execution_count": 104,
   "id": "d1ee142f",
   "metadata": {},
   "outputs": [
    {
     "name": "stdout",
     "output_type": "stream",
     "text": [
      "Bruce Wayne is Batman.        \n"
     ]
    }
   ],
   "source": [
    "print(f'{text:<30}')      # A block of 30 characters;"
   ]
  },
  {
   "cell_type": "code",
   "execution_count": 107,
   "id": "734b7216",
   "metadata": {},
   "outputs": [
    {
     "data": {
      "text/plain": [
       "20.0"
      ]
     },
     "execution_count": 107,
     "metadata": {},
     "output_type": "execute_result"
    }
   ],
   "source": [
    "x=40\n",
    "x/=2\n",
    "x"
   ]
  },
  {
   "cell_type": "code",
   "execution_count": 113,
   "id": "aab623e4",
   "metadata": {},
   "outputs": [
    {
     "name": "stdout",
     "output_type": "stream",
     "text": [
      "A\\B\\C\n"
     ]
    }
   ],
   "source": [
    "print('A\\B\\C')"
   ]
  },
  {
   "cell_type": "code",
   "execution_count": 114,
   "id": "ea23d764",
   "metadata": {},
   "outputs": [
    {
     "name": "stdout",
     "output_type": "stream",
     "text": [
      "A\\B\\C\n"
     ]
    }
   ],
   "source": [
    "print('A\\\\B\\\\C')"
   ]
  },
  {
   "cell_type": "code",
   "execution_count": null,
   "id": "c1d87d59",
   "metadata": {},
   "outputs": [],
   "source": []
  },
  {
   "cell_type": "code",
   "execution_count": null,
   "id": "250888c8",
   "metadata": {},
   "outputs": [],
   "source": []
  }
 ],
 "metadata": {
  "kernelspec": {
   "display_name": "Python 3 (ipykernel)",
   "language": "python",
   "name": "python3"
  },
  "language_info": {
   "codemirror_mode": {
    "name": "ipython",
    "version": 3
   },
   "file_extension": ".py",
   "mimetype": "text/x-python",
   "name": "python",
   "nbconvert_exporter": "python",
   "pygments_lexer": "ipython3",
   "version": "3.9.12"
  }
 },
 "nbformat": 4,
 "nbformat_minor": 5
}
