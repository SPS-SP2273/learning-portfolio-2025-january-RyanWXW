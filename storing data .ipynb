{
 "cells": [
  {
   "cell_type": "code",
   "execution_count": 5,
   "id": "53337a17",
   "metadata": {},
   "outputs": [],
   "source": [
    "py_list=[1,2,3,4,5]"
   ]
  },
  {
   "cell_type": "code",
   "execution_count": 6,
   "id": "341123aa",
   "metadata": {},
   "outputs": [
    {
     "data": {
      "text/plain": [
       "[1, 2, 3, 4, 5]"
      ]
     },
     "execution_count": 6,
     "metadata": {},
     "output_type": "execute_result"
    }
   ],
   "source": [
    "py_list"
   ]
  },
  {
   "cell_type": "code",
   "execution_count": 7,
   "id": "75e307a5",
   "metadata": {},
   "outputs": [],
   "source": [
    "#never use list as a variable \n",
    "list={1,2,3,4,5}"
   ]
  },
  {
   "cell_type": "code",
   "execution_count": 8,
   "id": "8374ca9e",
   "metadata": {},
   "outputs": [],
   "source": [
    "import numpy as np"
   ]
  },
  {
   "cell_type": "code",
   "execution_count": 9,
   "id": "34ae7d0d",
   "metadata": {},
   "outputs": [],
   "source": [
    "np_array = np.array(py_list)"
   ]
  },
  {
   "cell_type": "code",
   "execution_count": 10,
   "id": "508dceec",
   "metadata": {},
   "outputs": [
    {
     "data": {
      "text/plain": [
       "array([1, 2, 3, 4, 5])"
      ]
     },
     "execution_count": 10,
     "metadata": {},
     "output_type": "execute_result"
    }
   ],
   "source": [
    "np_array "
   ]
  },
  {
   "cell_type": "code",
   "execution_count": 11,
   "id": "17036f28",
   "metadata": {},
   "outputs": [
    {
     "data": {
      "text/plain": [
       "array([2, 3, 4, 5, 6])"
      ]
     },
     "execution_count": 11,
     "metadata": {},
     "output_type": "execute_result"
    }
   ],
   "source": [
    "np_array +1 #np works with all elements "
   ]
  },
  {
   "cell_type": "code",
   "execution_count": 12,
   "id": "c73a0a22",
   "metadata": {},
   "outputs": [
    {
     "data": {
      "text/plain": [
       "[1, 2, 3, 4, 5, 1]"
      ]
     },
     "execution_count": 12,
     "metadata": {},
     "output_type": "execute_result"
    }
   ],
   "source": [
    "py_list + [1]"
   ]
  },
  {
   "cell_type": "code",
   "execution_count": 13,
   "id": "236aef90",
   "metadata": {},
   "outputs": [
    {
     "data": {
      "text/plain": [
       "[1, 2, 3, 4, 5, 1, 2, 3, 4, 5]"
      ]
     },
     "execution_count": 13,
     "metadata": {},
     "output_type": "execute_result"
    }
   ],
   "source": [
    "py_list*2 #how come you cant add a number to list but u can mulitply it "
   ]
  },
  {
   "cell_type": "code",
   "execution_count": 14,
   "id": "81e9caa9",
   "metadata": {},
   "outputs": [
    {
     "data": {
      "text/plain": [
       "array([ 2,  4,  6,  8, 10])"
      ]
     },
     "execution_count": 14,
     "metadata": {},
     "output_type": "execute_result"
    }
   ],
   "source": [
    "np_array*2"
   ]
  },
  {
   "cell_type": "code",
   "execution_count": 23,
   "id": "c88f0335",
   "metadata": {},
   "outputs": [
    {
     "data": {
      "text/plain": [
       "array([2, 3, 4, 5, 6])"
      ]
     },
     "execution_count": 23,
     "metadata": {},
     "output_type": "execute_result"
    }
   ],
   "source": [
    "np_array +1 "
   ]
  },
  {
   "cell_type": "code",
   "execution_count": 16,
   "id": "577e4bef",
   "metadata": {},
   "outputs": [
    {
     "data": {
      "text/plain": [
       "5"
      ]
     },
     "execution_count": 16,
     "metadata": {},
     "output_type": "execute_result"
    }
   ],
   "source": [
    "len(np_array)"
   ]
  },
  {
   "cell_type": "code",
   "execution_count": 17,
   "id": "60a5a7b0",
   "metadata": {},
   "outputs": [
    {
     "data": {
      "text/plain": [
       "(5,)"
      ]
     },
     "execution_count": 17,
     "metadata": {},
     "output_type": "execute_result"
    }
   ],
   "source": [
    "np_array.shape"
   ]
  },
  {
   "cell_type": "code",
   "execution_count": 18,
   "id": "5d3c7dce",
   "metadata": {},
   "outputs": [],
   "source": [
    "my_rand_numbers= np.random.randint(0,100,100)"
   ]
  },
  {
   "cell_type": "code",
   "execution_count": 19,
   "id": "76096283",
   "metadata": {},
   "outputs": [],
   "source": [
    "mask = (my_rand_numbers < 50)"
   ]
  },
  {
   "cell_type": "code",
   "execution_count": 20,
   "id": "99d13a3a",
   "metadata": {},
   "outputs": [
    {
     "data": {
      "text/plain": [
       "array([ 4, 87, 56, 28, 63, 23, 16, 68, 13, 23, 71, 42, 87,  2, 13, 62, 77,\n",
       "       57, 49, 41, 30, 36,  5, 80, 36, 70, 92, 64, 47, 31, 42, 32, 96, 23,\n",
       "       80, 61, 96, 82, 42, 50, 70, 46, 63, 42, 14, 26, 85, 19, 36, 78, 43,\n",
       "       42, 45, 43, 15, 75, 47, 59, 43, 70,  0, 35, 23, 96, 21, 72, 23,  3,\n",
       "       65, 54, 69, 83, 80, 98, 62, 26, 43, 13, 34, 54, 80, 27, 91, 15, 80,\n",
       "       43,  2, 27, 70, 28, 21, 24, 72, 85, 95, 70, 75, 13, 32,  4])"
      ]
     },
     "execution_count": 20,
     "metadata": {},
     "output_type": "execute_result"
    }
   ],
   "source": [
    "my_rand_numbers"
   ]
  },
  {
   "cell_type": "code",
   "execution_count": 21,
   "id": "b64d9513",
   "metadata": {},
   "outputs": [
    {
     "data": {
      "text/plain": [
       "np.int64(87)"
      ]
     },
     "execution_count": 21,
     "metadata": {},
     "output_type": "execute_result"
    }
   ],
   "source": [
    "my_rand_numbers[1] #python starts counting from 0"
   ]
  },
  {
   "cell_type": "code",
   "execution_count": 22,
   "id": "cf16b808",
   "metadata": {},
   "outputs": [
    {
     "data": {
      "text/plain": [
       "np.int64(4)"
      ]
     },
     "execution_count": 22,
     "metadata": {},
     "output_type": "execute_result"
    }
   ],
   "source": [
    "my_rand_numbers[-1]"
   ]
  },
  {
   "cell_type": "code",
   "execution_count": null,
   "id": "8fbad312",
   "metadata": {},
   "outputs": [],
   "source": []
  },
  {
   "cell_type": "code",
   "execution_count": null,
   "id": "3197cb96",
   "metadata": {},
   "outputs": [],
   "source": []
  },
  {
   "cell_type": "code",
   "execution_count": null,
   "id": "bc874751",
   "metadata": {},
   "outputs": [],
   "source": []
  },
  {
   "cell_type": "code",
   "execution_count": null,
   "id": "9142f26e",
   "metadata": {},
   "outputs": [],
   "source": []
  },
  {
   "cell_type": "code",
   "execution_count": null,
   "id": "3c6b7942",
   "metadata": {},
   "outputs": [],
   "source": []
  },
  {
   "cell_type": "code",
   "execution_count": null,
   "id": "c548cb74",
   "metadata": {},
   "outputs": [],
   "source": []
  }
 ],
 "metadata": {
  "kernelspec": {
   "display_name": "Python 3 (ipykernel)",
   "language": "python",
   "name": "python3"
  },
  "language_info": {
   "codemirror_mode": {
    "name": "ipython",
    "version": 3
   },
   "file_extension": ".py",
   "mimetype": "text/x-python",
   "name": "python",
   "nbconvert_exporter": "python",
   "pygments_lexer": "ipython3",
   "version": "3.9.12"
  }
 },
 "nbformat": 4,
 "nbformat_minor": 5
}
